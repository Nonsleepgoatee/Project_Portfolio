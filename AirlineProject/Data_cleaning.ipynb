{
 "cells": [
  {
   "cell_type": "code",
   "execution_count": 1,
   "id": "initial_id",
   "metadata": {
    "collapsed": true,
    "ExecuteTime": {
     "end_time": "2024-05-01T15:19:06.317852Z",
     "start_time": "2024-05-01T15:19:05.628469Z"
    }
   },
   "outputs": [],
   "source": [
    "import pandas as pd\n",
    "import re\n",
    "import numpy as np"
   ]
  },
  {
   "cell_type": "code",
   "outputs": [
    {
     "data": {
      "text/plain": "   Unnamed: 0        airline                                  title rating  \\\n0           0    ab-aviation                \"pretty decent airline\"      9   \n1           1    ab-aviation                   \"Not a good airline\"      1   \n2           2    ab-aviation         \"flight was fortunately short\"      1   \n3           3  adria-airways    \"I will never fly again with Adria\"      1   \n4           4  adria-airways  \"it ruined our last days of holidays\"      1   \n\n      nationality                 date  \\\n0     Netherlands   11th November 2019   \n1  United Kingdom       25th June 2019   \n2  United Kingdom       25th June 2019   \n3          Serbia  28th September 2019   \n4     Netherlands  24th September 2019   \n\n                                             content Type Of Traveller  \\\n0  ✅Trip Verified|  Moroni to Moheli. Turned out ...      Solo Leisure   \n1  ✅Trip Verified| Moroni to Anjouan. It is a ver...      Solo Leisure   \n2  ✅Trip Verified|  Anjouan to Dzaoudzi. A very s...      Solo Leisure   \n3  Not Verified|  Please do a favor yourself and ...      Solo Leisure   \n4  ✅Trip Verified| Do not book a flight with this...    Couple Leisure   \n\n       Seat Type                             Route      Date Flown  \\\n0  Economy Class                  Moroni to Moheli   November 2019   \n1  Economy Class                 Moroni to Anjouan       June 2019   \n2  Economy Class               Anjouan to Dzaoudzi       June 2019   \n3  Economy Class             Frankfurt to Pristina  September 2019   \n4  Economy Class  Sofia to Amsterdam via Ljubljana  September 2019   \n\n   Seat Comfort  Cabin Staff Service  Food & Beverages  Ground Service  \\\n0           4.0                  5.0               4.0             4.0   \n1           2.0                  2.0               1.0             1.0   \n2           2.0                  1.0               1.0             1.0   \n3           1.0                  1.0               NaN             1.0   \n4           1.0                  1.0               1.0             1.0   \n\n   Value For Money      Aircraft  Inflight Entertainment  Wifi & Connectivity  \\\n0              3.0           NaN                     NaN                  NaN   \n1              2.0          E120                     NaN                  NaN   \n2              2.0  Embraer E120                     NaN                  NaN   \n3              1.0           NaN                     NaN                  NaN   \n4              1.0           NaN                     1.0                  1.0   \n\n  Recommended  \n0         yes  \n1          no  \n2          no  \n3          no  \n4          no  ",
      "text/html": "<div>\n<style scoped>\n    .dataframe tbody tr th:only-of-type {\n        vertical-align: middle;\n    }\n\n    .dataframe tbody tr th {\n        vertical-align: top;\n    }\n\n    .dataframe thead th {\n        text-align: right;\n    }\n</style>\n<table border=\"1\" class=\"dataframe\">\n  <thead>\n    <tr style=\"text-align: right;\">\n      <th></th>\n      <th>Unnamed: 0</th>\n      <th>airline</th>\n      <th>title</th>\n      <th>rating</th>\n      <th>nationality</th>\n      <th>date</th>\n      <th>content</th>\n      <th>Type Of Traveller</th>\n      <th>Seat Type</th>\n      <th>Route</th>\n      <th>Date Flown</th>\n      <th>Seat Comfort</th>\n      <th>Cabin Staff Service</th>\n      <th>Food &amp; Beverages</th>\n      <th>Ground Service</th>\n      <th>Value For Money</th>\n      <th>Aircraft</th>\n      <th>Inflight Entertainment</th>\n      <th>Wifi &amp; Connectivity</th>\n      <th>Recommended</th>\n    </tr>\n  </thead>\n  <tbody>\n    <tr>\n      <th>0</th>\n      <td>0</td>\n      <td>ab-aviation</td>\n      <td>\"pretty decent airline\"</td>\n      <td>9</td>\n      <td>Netherlands</td>\n      <td>11th November 2019</td>\n      <td>✅Trip Verified|  Moroni to Moheli. Turned out ...</td>\n      <td>Solo Leisure</td>\n      <td>Economy Class</td>\n      <td>Moroni to Moheli</td>\n      <td>November 2019</td>\n      <td>4.0</td>\n      <td>5.0</td>\n      <td>4.0</td>\n      <td>4.0</td>\n      <td>3.0</td>\n      <td>NaN</td>\n      <td>NaN</td>\n      <td>NaN</td>\n      <td>yes</td>\n    </tr>\n    <tr>\n      <th>1</th>\n      <td>1</td>\n      <td>ab-aviation</td>\n      <td>\"Not a good airline\"</td>\n      <td>1</td>\n      <td>United Kingdom</td>\n      <td>25th June 2019</td>\n      <td>✅Trip Verified| Moroni to Anjouan. It is a ver...</td>\n      <td>Solo Leisure</td>\n      <td>Economy Class</td>\n      <td>Moroni to Anjouan</td>\n      <td>June 2019</td>\n      <td>2.0</td>\n      <td>2.0</td>\n      <td>1.0</td>\n      <td>1.0</td>\n      <td>2.0</td>\n      <td>E120</td>\n      <td>NaN</td>\n      <td>NaN</td>\n      <td>no</td>\n    </tr>\n    <tr>\n      <th>2</th>\n      <td>2</td>\n      <td>ab-aviation</td>\n      <td>\"flight was fortunately short\"</td>\n      <td>1</td>\n      <td>United Kingdom</td>\n      <td>25th June 2019</td>\n      <td>✅Trip Verified|  Anjouan to Dzaoudzi. A very s...</td>\n      <td>Solo Leisure</td>\n      <td>Economy Class</td>\n      <td>Anjouan to Dzaoudzi</td>\n      <td>June 2019</td>\n      <td>2.0</td>\n      <td>1.0</td>\n      <td>1.0</td>\n      <td>1.0</td>\n      <td>2.0</td>\n      <td>Embraer E120</td>\n      <td>NaN</td>\n      <td>NaN</td>\n      <td>no</td>\n    </tr>\n    <tr>\n      <th>3</th>\n      <td>3</td>\n      <td>adria-airways</td>\n      <td>\"I will never fly again with Adria\"</td>\n      <td>1</td>\n      <td>Serbia</td>\n      <td>28th September 2019</td>\n      <td>Not Verified|  Please do a favor yourself and ...</td>\n      <td>Solo Leisure</td>\n      <td>Economy Class</td>\n      <td>Frankfurt to Pristina</td>\n      <td>September 2019</td>\n      <td>1.0</td>\n      <td>1.0</td>\n      <td>NaN</td>\n      <td>1.0</td>\n      <td>1.0</td>\n      <td>NaN</td>\n      <td>NaN</td>\n      <td>NaN</td>\n      <td>no</td>\n    </tr>\n    <tr>\n      <th>4</th>\n      <td>4</td>\n      <td>adria-airways</td>\n      <td>\"it ruined our last days of holidays\"</td>\n      <td>1</td>\n      <td>Netherlands</td>\n      <td>24th September 2019</td>\n      <td>✅Trip Verified| Do not book a flight with this...</td>\n      <td>Couple Leisure</td>\n      <td>Economy Class</td>\n      <td>Sofia to Amsterdam via Ljubljana</td>\n      <td>September 2019</td>\n      <td>1.0</td>\n      <td>1.0</td>\n      <td>1.0</td>\n      <td>1.0</td>\n      <td>1.0</td>\n      <td>NaN</td>\n      <td>1.0</td>\n      <td>1.0</td>\n      <td>no</td>\n    </tr>\n  </tbody>\n</table>\n</div>"
     },
     "execution_count": 2,
     "metadata": {},
     "output_type": "execute_result"
    }
   ],
   "source": [
    "df=pd.read_csv('airline_df.csv')\n",
    "df.head()"
   ],
   "metadata": {
    "collapsed": false,
    "ExecuteTime": {
     "end_time": "2024-05-01T15:19:07.643262Z",
     "start_time": "2024-05-01T15:19:06.317551Z"
    }
   },
   "id": "b3d9e6fde9cc959b",
   "execution_count": 2
  },
  {
   "cell_type": "code",
   "outputs": [],
   "source": [
    "df.drop(columns=['Unnamed: 0'], inplace=True)"
   ],
   "metadata": {
    "collapsed": false,
    "ExecuteTime": {
     "end_time": "2024-05-01T15:19:07.659803Z",
     "start_time": "2024-05-01T15:19:07.645050Z"
    }
   },
   "id": "6b90c03f10e0ef3c",
   "execution_count": 3
  },
  {
   "cell_type": "code",
   "outputs": [
    {
     "data": {
      "text/plain": "         airline                                  title rating  \\\n0    ab-aviation                \"pretty decent airline\"      9   \n1    ab-aviation                   \"Not a good airline\"      1   \n2    ab-aviation         \"flight was fortunately short\"      1   \n3  adria-airways    \"I will never fly again with Adria\"      1   \n4  adria-airways  \"it ruined our last days of holidays\"      1   \n\n      nationality                 date  \\\n0     Netherlands   11th November 2019   \n1  United Kingdom       25th June 2019   \n2  United Kingdom       25th June 2019   \n3          Serbia  28th September 2019   \n4     Netherlands  24th September 2019   \n\n                                             content Type Of Traveller  \\\n0  ✅Trip Verified|  Moroni to Moheli. Turned out ...      Solo Leisure   \n1  ✅Trip Verified| Moroni to Anjouan. It is a ver...      Solo Leisure   \n2  ✅Trip Verified|  Anjouan to Dzaoudzi. A very s...      Solo Leisure   \n3  Not Verified|  Please do a favor yourself and ...      Solo Leisure   \n4  ✅Trip Verified| Do not book a flight with this...    Couple Leisure   \n\n       Seat Type                             Route      Date Flown  \\\n0  Economy Class                  Moroni to Moheli   November 2019   \n1  Economy Class                 Moroni to Anjouan       June 2019   \n2  Economy Class               Anjouan to Dzaoudzi       June 2019   \n3  Economy Class             Frankfurt to Pristina  September 2019   \n4  Economy Class  Sofia to Amsterdam via Ljubljana  September 2019   \n\n   Seat Comfort  Cabin Staff Service  Food & Beverages  Ground Service  \\\n0           4.0                  5.0               4.0             4.0   \n1           2.0                  2.0               1.0             1.0   \n2           2.0                  1.0               1.0             1.0   \n3           1.0                  1.0               NaN             1.0   \n4           1.0                  1.0               1.0             1.0   \n\n   Value For Money      Aircraft  Inflight Entertainment  Wifi & Connectivity  \\\n0              3.0           NaN                     NaN                  NaN   \n1              2.0          E120                     NaN                  NaN   \n2              2.0  Embraer E120                     NaN                  NaN   \n3              1.0           NaN                     NaN                  NaN   \n4              1.0           NaN                     1.0                  1.0   \n\n  Recommended  \n0         yes  \n1          no  \n2          no  \n3          no  \n4          no  ",
      "text/html": "<div>\n<style scoped>\n    .dataframe tbody tr th:only-of-type {\n        vertical-align: middle;\n    }\n\n    .dataframe tbody tr th {\n        vertical-align: top;\n    }\n\n    .dataframe thead th {\n        text-align: right;\n    }\n</style>\n<table border=\"1\" class=\"dataframe\">\n  <thead>\n    <tr style=\"text-align: right;\">\n      <th></th>\n      <th>airline</th>\n      <th>title</th>\n      <th>rating</th>\n      <th>nationality</th>\n      <th>date</th>\n      <th>content</th>\n      <th>Type Of Traveller</th>\n      <th>Seat Type</th>\n      <th>Route</th>\n      <th>Date Flown</th>\n      <th>Seat Comfort</th>\n      <th>Cabin Staff Service</th>\n      <th>Food &amp; Beverages</th>\n      <th>Ground Service</th>\n      <th>Value For Money</th>\n      <th>Aircraft</th>\n      <th>Inflight Entertainment</th>\n      <th>Wifi &amp; Connectivity</th>\n      <th>Recommended</th>\n    </tr>\n  </thead>\n  <tbody>\n    <tr>\n      <th>0</th>\n      <td>ab-aviation</td>\n      <td>\"pretty decent airline\"</td>\n      <td>9</td>\n      <td>Netherlands</td>\n      <td>11th November 2019</td>\n      <td>✅Trip Verified|  Moroni to Moheli. Turned out ...</td>\n      <td>Solo Leisure</td>\n      <td>Economy Class</td>\n      <td>Moroni to Moheli</td>\n      <td>November 2019</td>\n      <td>4.0</td>\n      <td>5.0</td>\n      <td>4.0</td>\n      <td>4.0</td>\n      <td>3.0</td>\n      <td>NaN</td>\n      <td>NaN</td>\n      <td>NaN</td>\n      <td>yes</td>\n    </tr>\n    <tr>\n      <th>1</th>\n      <td>ab-aviation</td>\n      <td>\"Not a good airline\"</td>\n      <td>1</td>\n      <td>United Kingdom</td>\n      <td>25th June 2019</td>\n      <td>✅Trip Verified| Moroni to Anjouan. It is a ver...</td>\n      <td>Solo Leisure</td>\n      <td>Economy Class</td>\n      <td>Moroni to Anjouan</td>\n      <td>June 2019</td>\n      <td>2.0</td>\n      <td>2.0</td>\n      <td>1.0</td>\n      <td>1.0</td>\n      <td>2.0</td>\n      <td>E120</td>\n      <td>NaN</td>\n      <td>NaN</td>\n      <td>no</td>\n    </tr>\n    <tr>\n      <th>2</th>\n      <td>ab-aviation</td>\n      <td>\"flight was fortunately short\"</td>\n      <td>1</td>\n      <td>United Kingdom</td>\n      <td>25th June 2019</td>\n      <td>✅Trip Verified|  Anjouan to Dzaoudzi. A very s...</td>\n      <td>Solo Leisure</td>\n      <td>Economy Class</td>\n      <td>Anjouan to Dzaoudzi</td>\n      <td>June 2019</td>\n      <td>2.0</td>\n      <td>1.0</td>\n      <td>1.0</td>\n      <td>1.0</td>\n      <td>2.0</td>\n      <td>Embraer E120</td>\n      <td>NaN</td>\n      <td>NaN</td>\n      <td>no</td>\n    </tr>\n    <tr>\n      <th>3</th>\n      <td>adria-airways</td>\n      <td>\"I will never fly again with Adria\"</td>\n      <td>1</td>\n      <td>Serbia</td>\n      <td>28th September 2019</td>\n      <td>Not Verified|  Please do a favor yourself and ...</td>\n      <td>Solo Leisure</td>\n      <td>Economy Class</td>\n      <td>Frankfurt to Pristina</td>\n      <td>September 2019</td>\n      <td>1.0</td>\n      <td>1.0</td>\n      <td>NaN</td>\n      <td>1.0</td>\n      <td>1.0</td>\n      <td>NaN</td>\n      <td>NaN</td>\n      <td>NaN</td>\n      <td>no</td>\n    </tr>\n    <tr>\n      <th>4</th>\n      <td>adria-airways</td>\n      <td>\"it ruined our last days of holidays\"</td>\n      <td>1</td>\n      <td>Netherlands</td>\n      <td>24th September 2019</td>\n      <td>✅Trip Verified| Do not book a flight with this...</td>\n      <td>Couple Leisure</td>\n      <td>Economy Class</td>\n      <td>Sofia to Amsterdam via Ljubljana</td>\n      <td>September 2019</td>\n      <td>1.0</td>\n      <td>1.0</td>\n      <td>1.0</td>\n      <td>1.0</td>\n      <td>1.0</td>\n      <td>NaN</td>\n      <td>1.0</td>\n      <td>1.0</td>\n      <td>no</td>\n    </tr>\n  </tbody>\n</table>\n</div>"
     },
     "execution_count": 4,
     "metadata": {},
     "output_type": "execute_result"
    }
   ],
   "source": [
    "df.head()"
   ],
   "metadata": {
    "collapsed": false,
    "ExecuteTime": {
     "end_time": "2024-05-01T15:19:07.690222Z",
     "start_time": "2024-05-01T15:19:07.667939Z"
    }
   },
   "id": "b4c7d2417e18787",
   "execution_count": 4
  },
  {
   "cell_type": "code",
   "outputs": [
    {
     "data": {
      "text/plain": "         airline                                title rating     nationality  \\\n0    ab-aviation                pretty decent airline      9     Netherlands   \n1    ab-aviation                   Not a good airline      1  United Kingdom   \n2    ab-aviation         flight was fortunately short      1  United Kingdom   \n3  adria-airways    I will never fly again with Adria      1          Serbia   \n4  adria-airways  it ruined our last days of holidays      1     Netherlands   \n\n                  date                                            content  \\\n0   11th November 2019  ✅Trip Verified|  Moroni to Moheli. Turned out ...   \n1       25th June 2019  ✅Trip Verified| Moroni to Anjouan. It is a ver...   \n2       25th June 2019  ✅Trip Verified|  Anjouan to Dzaoudzi. A very s...   \n3  28th September 2019  Not Verified|  Please do a favor yourself and ...   \n4  24th September 2019  ✅Trip Verified| Do not book a flight with this...   \n\n  Type Of Traveller      Seat Type                             Route  \\\n0      Solo Leisure  Economy Class                  Moroni to Moheli   \n1      Solo Leisure  Economy Class                 Moroni to Anjouan   \n2      Solo Leisure  Economy Class               Anjouan to Dzaoudzi   \n3      Solo Leisure  Economy Class             Frankfurt to Pristina   \n4    Couple Leisure  Economy Class  Sofia to Amsterdam via Ljubljana   \n\n       Date Flown  ...  Food & Beverages  Ground Service  Value For Money  \\\n0   November 2019  ...               4.0             4.0              3.0   \n1       June 2019  ...               1.0             1.0              2.0   \n2       June 2019  ...               1.0             1.0              2.0   \n3  September 2019  ...               NaN             1.0              1.0   \n4  September 2019  ...               1.0             1.0              1.0   \n\n       Aircraft  Inflight Entertainment Wifi & Connectivity  Recommended  \\\n0           NaN                     NaN                 NaN          yes   \n1          E120                     NaN                 NaN           no   \n2  Embraer E120                     NaN                 NaN           no   \n3           NaN                     NaN                 NaN           no   \n4           NaN                     1.0                 1.0           no   \n\n   trip_verified                                     review_content  \\\n0              1    Moroni to Moheli. Turned out to be a pretty ...   \n1              1   Moroni to Anjouan. It is a very small airline...   \n2              1    Anjouan to Dzaoudzi. A very small airline an...   \n3              0    Please do a favor yourself and do not fly wi...   \n4              1   Do not book a flight with this airline! My fr...   \n\n                                              review  \n0  pretty decent airline  Moroni to Moheli. Turne...  \n1  Not a good airline Moroni to Anjouan. It is a ...  \n2  flight was fortunately short  Anjouan to Dzaou...  \n3  I will never fly again with Adria  Please do a...  \n4  it ruined our last days of holidays Do not boo...  \n\n[5 rows x 22 columns]",
      "text/html": "<div>\n<style scoped>\n    .dataframe tbody tr th:only-of-type {\n        vertical-align: middle;\n    }\n\n    .dataframe tbody tr th {\n        vertical-align: top;\n    }\n\n    .dataframe thead th {\n        text-align: right;\n    }\n</style>\n<table border=\"1\" class=\"dataframe\">\n  <thead>\n    <tr style=\"text-align: right;\">\n      <th></th>\n      <th>airline</th>\n      <th>title</th>\n      <th>rating</th>\n      <th>nationality</th>\n      <th>date</th>\n      <th>content</th>\n      <th>Type Of Traveller</th>\n      <th>Seat Type</th>\n      <th>Route</th>\n      <th>Date Flown</th>\n      <th>...</th>\n      <th>Food &amp; Beverages</th>\n      <th>Ground Service</th>\n      <th>Value For Money</th>\n      <th>Aircraft</th>\n      <th>Inflight Entertainment</th>\n      <th>Wifi &amp; Connectivity</th>\n      <th>Recommended</th>\n      <th>trip_verified</th>\n      <th>review_content</th>\n      <th>review</th>\n    </tr>\n  </thead>\n  <tbody>\n    <tr>\n      <th>0</th>\n      <td>ab-aviation</td>\n      <td>pretty decent airline</td>\n      <td>9</td>\n      <td>Netherlands</td>\n      <td>11th November 2019</td>\n      <td>✅Trip Verified|  Moroni to Moheli. Turned out ...</td>\n      <td>Solo Leisure</td>\n      <td>Economy Class</td>\n      <td>Moroni to Moheli</td>\n      <td>November 2019</td>\n      <td>...</td>\n      <td>4.0</td>\n      <td>4.0</td>\n      <td>3.0</td>\n      <td>NaN</td>\n      <td>NaN</td>\n      <td>NaN</td>\n      <td>yes</td>\n      <td>1</td>\n      <td>Moroni to Moheli. Turned out to be a pretty ...</td>\n      <td>pretty decent airline  Moroni to Moheli. Turne...</td>\n    </tr>\n    <tr>\n      <th>1</th>\n      <td>ab-aviation</td>\n      <td>Not a good airline</td>\n      <td>1</td>\n      <td>United Kingdom</td>\n      <td>25th June 2019</td>\n      <td>✅Trip Verified| Moroni to Anjouan. It is a ver...</td>\n      <td>Solo Leisure</td>\n      <td>Economy Class</td>\n      <td>Moroni to Anjouan</td>\n      <td>June 2019</td>\n      <td>...</td>\n      <td>1.0</td>\n      <td>1.0</td>\n      <td>2.0</td>\n      <td>E120</td>\n      <td>NaN</td>\n      <td>NaN</td>\n      <td>no</td>\n      <td>1</td>\n      <td>Moroni to Anjouan. It is a very small airline...</td>\n      <td>Not a good airline Moroni to Anjouan. It is a ...</td>\n    </tr>\n    <tr>\n      <th>2</th>\n      <td>ab-aviation</td>\n      <td>flight was fortunately short</td>\n      <td>1</td>\n      <td>United Kingdom</td>\n      <td>25th June 2019</td>\n      <td>✅Trip Verified|  Anjouan to Dzaoudzi. A very s...</td>\n      <td>Solo Leisure</td>\n      <td>Economy Class</td>\n      <td>Anjouan to Dzaoudzi</td>\n      <td>June 2019</td>\n      <td>...</td>\n      <td>1.0</td>\n      <td>1.0</td>\n      <td>2.0</td>\n      <td>Embraer E120</td>\n      <td>NaN</td>\n      <td>NaN</td>\n      <td>no</td>\n      <td>1</td>\n      <td>Anjouan to Dzaoudzi. A very small airline an...</td>\n      <td>flight was fortunately short  Anjouan to Dzaou...</td>\n    </tr>\n    <tr>\n      <th>3</th>\n      <td>adria-airways</td>\n      <td>I will never fly again with Adria</td>\n      <td>1</td>\n      <td>Serbia</td>\n      <td>28th September 2019</td>\n      <td>Not Verified|  Please do a favor yourself and ...</td>\n      <td>Solo Leisure</td>\n      <td>Economy Class</td>\n      <td>Frankfurt to Pristina</td>\n      <td>September 2019</td>\n      <td>...</td>\n      <td>NaN</td>\n      <td>1.0</td>\n      <td>1.0</td>\n      <td>NaN</td>\n      <td>NaN</td>\n      <td>NaN</td>\n      <td>no</td>\n      <td>0</td>\n      <td>Please do a favor yourself and do not fly wi...</td>\n      <td>I will never fly again with Adria  Please do a...</td>\n    </tr>\n    <tr>\n      <th>4</th>\n      <td>adria-airways</td>\n      <td>it ruined our last days of holidays</td>\n      <td>1</td>\n      <td>Netherlands</td>\n      <td>24th September 2019</td>\n      <td>✅Trip Verified| Do not book a flight with this...</td>\n      <td>Couple Leisure</td>\n      <td>Economy Class</td>\n      <td>Sofia to Amsterdam via Ljubljana</td>\n      <td>September 2019</td>\n      <td>...</td>\n      <td>1.0</td>\n      <td>1.0</td>\n      <td>1.0</td>\n      <td>NaN</td>\n      <td>1.0</td>\n      <td>1.0</td>\n      <td>no</td>\n      <td>1</td>\n      <td>Do not book a flight with this airline! My fr...</td>\n      <td>it ruined our last days of holidays Do not boo...</td>\n    </tr>\n  </tbody>\n</table>\n<p>5 rows × 22 columns</p>\n</div>"
     },
     "execution_count": 5,
     "metadata": {},
     "output_type": "execute_result"
    }
   ],
   "source": [
    "df['title']=df['title'].str.replace('\"','')\n",
    "df['trip_verified']=df['content'].apply(lambda x: 1 if 'Trip Verified' in x else 0)\n",
    "df['review_content']=df['content'].str.split('|').str[-1]\n",
    "df['review']=df['title']+df['review_content']\n",
    "df.head()"
   ],
   "metadata": {
    "collapsed": false,
    "ExecuteTime": {
     "end_time": "2024-05-01T15:19:08.114156Z",
     "start_time": "2024-05-01T15:19:07.679623Z"
    }
   },
   "id": "f5e51c63653b67b5",
   "execution_count": 5
  },
  {
   "cell_type": "code",
   "outputs": [],
   "source": [
    "df.drop(columns=['title','content','review_content'], inplace=True)"
   ],
   "metadata": {
    "collapsed": false,
    "ExecuteTime": {
     "end_time": "2024-05-01T15:19:08.130619Z",
     "start_time": "2024-05-01T15:19:08.116098Z"
    }
   },
   "id": "90e816e822078fc1",
   "execution_count": 6
  },
  {
   "cell_type": "code",
   "outputs": [
    {
     "data": {
      "text/plain": "         airline rating     nationality                 date  \\\n0    ab-aviation      9     Netherlands   11th November 2019   \n1    ab-aviation      1  United Kingdom       25th June 2019   \n2    ab-aviation      1  United Kingdom       25th June 2019   \n3  adria-airways      1          Serbia  28th September 2019   \n4  adria-airways      1     Netherlands  24th September 2019   \n\n  Type Of Traveller      Seat Type                             Route  \\\n0      Solo Leisure  Economy Class                  Moroni to Moheli   \n1      Solo Leisure  Economy Class                 Moroni to Anjouan   \n2      Solo Leisure  Economy Class               Anjouan to Dzaoudzi   \n3      Solo Leisure  Economy Class             Frankfurt to Pristina   \n4    Couple Leisure  Economy Class  Sofia to Amsterdam via Ljubljana   \n\n       Date Flown  Seat Comfort  Cabin Staff Service  Food & Beverages  \\\n0   November 2019           4.0                  5.0               4.0   \n1       June 2019           2.0                  2.0               1.0   \n2       June 2019           2.0                  1.0               1.0   \n3  September 2019           1.0                  1.0               NaN   \n4  September 2019           1.0                  1.0               1.0   \n\n   Ground Service  Value For Money      Aircraft  Inflight Entertainment  \\\n0             4.0              3.0           NaN                     NaN   \n1             1.0              2.0          E120                     NaN   \n2             1.0              2.0  Embraer E120                     NaN   \n3             1.0              1.0           NaN                     NaN   \n4             1.0              1.0           NaN                     1.0   \n\n   Wifi & Connectivity Recommended  trip_verified  \\\n0                  NaN         yes              1   \n1                  NaN          no              1   \n2                  NaN          no              1   \n3                  NaN          no              0   \n4                  1.0          no              1   \n\n                                              review  \n0  pretty decent airline  Moroni to Moheli. Turne...  \n1  Not a good airline Moroni to Anjouan. It is a ...  \n2  flight was fortunately short  Anjouan to Dzaou...  \n3  I will never fly again with Adria  Please do a...  \n4  it ruined our last days of holidays Do not boo...  ",
      "text/html": "<div>\n<style scoped>\n    .dataframe tbody tr th:only-of-type {\n        vertical-align: middle;\n    }\n\n    .dataframe tbody tr th {\n        vertical-align: top;\n    }\n\n    .dataframe thead th {\n        text-align: right;\n    }\n</style>\n<table border=\"1\" class=\"dataframe\">\n  <thead>\n    <tr style=\"text-align: right;\">\n      <th></th>\n      <th>airline</th>\n      <th>rating</th>\n      <th>nationality</th>\n      <th>date</th>\n      <th>Type Of Traveller</th>\n      <th>Seat Type</th>\n      <th>Route</th>\n      <th>Date Flown</th>\n      <th>Seat Comfort</th>\n      <th>Cabin Staff Service</th>\n      <th>Food &amp; Beverages</th>\n      <th>Ground Service</th>\n      <th>Value For Money</th>\n      <th>Aircraft</th>\n      <th>Inflight Entertainment</th>\n      <th>Wifi &amp; Connectivity</th>\n      <th>Recommended</th>\n      <th>trip_verified</th>\n      <th>review</th>\n    </tr>\n  </thead>\n  <tbody>\n    <tr>\n      <th>0</th>\n      <td>ab-aviation</td>\n      <td>9</td>\n      <td>Netherlands</td>\n      <td>11th November 2019</td>\n      <td>Solo Leisure</td>\n      <td>Economy Class</td>\n      <td>Moroni to Moheli</td>\n      <td>November 2019</td>\n      <td>4.0</td>\n      <td>5.0</td>\n      <td>4.0</td>\n      <td>4.0</td>\n      <td>3.0</td>\n      <td>NaN</td>\n      <td>NaN</td>\n      <td>NaN</td>\n      <td>yes</td>\n      <td>1</td>\n      <td>pretty decent airline  Moroni to Moheli. Turne...</td>\n    </tr>\n    <tr>\n      <th>1</th>\n      <td>ab-aviation</td>\n      <td>1</td>\n      <td>United Kingdom</td>\n      <td>25th June 2019</td>\n      <td>Solo Leisure</td>\n      <td>Economy Class</td>\n      <td>Moroni to Anjouan</td>\n      <td>June 2019</td>\n      <td>2.0</td>\n      <td>2.0</td>\n      <td>1.0</td>\n      <td>1.0</td>\n      <td>2.0</td>\n      <td>E120</td>\n      <td>NaN</td>\n      <td>NaN</td>\n      <td>no</td>\n      <td>1</td>\n      <td>Not a good airline Moroni to Anjouan. It is a ...</td>\n    </tr>\n    <tr>\n      <th>2</th>\n      <td>ab-aviation</td>\n      <td>1</td>\n      <td>United Kingdom</td>\n      <td>25th June 2019</td>\n      <td>Solo Leisure</td>\n      <td>Economy Class</td>\n      <td>Anjouan to Dzaoudzi</td>\n      <td>June 2019</td>\n      <td>2.0</td>\n      <td>1.0</td>\n      <td>1.0</td>\n      <td>1.0</td>\n      <td>2.0</td>\n      <td>Embraer E120</td>\n      <td>NaN</td>\n      <td>NaN</td>\n      <td>no</td>\n      <td>1</td>\n      <td>flight was fortunately short  Anjouan to Dzaou...</td>\n    </tr>\n    <tr>\n      <th>3</th>\n      <td>adria-airways</td>\n      <td>1</td>\n      <td>Serbia</td>\n      <td>28th September 2019</td>\n      <td>Solo Leisure</td>\n      <td>Economy Class</td>\n      <td>Frankfurt to Pristina</td>\n      <td>September 2019</td>\n      <td>1.0</td>\n      <td>1.0</td>\n      <td>NaN</td>\n      <td>1.0</td>\n      <td>1.0</td>\n      <td>NaN</td>\n      <td>NaN</td>\n      <td>NaN</td>\n      <td>no</td>\n      <td>0</td>\n      <td>I will never fly again with Adria  Please do a...</td>\n    </tr>\n    <tr>\n      <th>4</th>\n      <td>adria-airways</td>\n      <td>1</td>\n      <td>Netherlands</td>\n      <td>24th September 2019</td>\n      <td>Couple Leisure</td>\n      <td>Economy Class</td>\n      <td>Sofia to Amsterdam via Ljubljana</td>\n      <td>September 2019</td>\n      <td>1.0</td>\n      <td>1.0</td>\n      <td>1.0</td>\n      <td>1.0</td>\n      <td>1.0</td>\n      <td>NaN</td>\n      <td>1.0</td>\n      <td>1.0</td>\n      <td>no</td>\n      <td>1</td>\n      <td>it ruined our last days of holidays Do not boo...</td>\n    </tr>\n  </tbody>\n</table>\n</div>"
     },
     "execution_count": 7,
     "metadata": {},
     "output_type": "execute_result"
    }
   ],
   "source": [
    "df.head()"
   ],
   "metadata": {
    "collapsed": false,
    "ExecuteTime": {
     "end_time": "2024-05-01T15:19:08.145511Z",
     "start_time": "2024-05-01T15:19:08.137233Z"
    }
   },
   "id": "cb2e2785c2530a96",
   "execution_count": 7
  },
  {
   "cell_type": "code",
   "outputs": [
    {
     "data": {
      "text/plain": "airline                       0\nrating                        0\nnationality                1430\ndate                          0\nType Of Traveller         36007\nSeat Type                  2774\nRoute                     36384\nDate Flown                36148\nSeat Comfort              13959\nCabin Staff Service       14161\nFood & Beverages          37123\nGround Service            39455\nValue For Money            2063\nAircraft                  94637\nInflight Entertainment    54758\nWifi & Connectivity       99572\nRecommended                   0\ntrip_verified                 0\nreview                        0\ndtype: int64"
     },
     "execution_count": 8,
     "metadata": {},
     "output_type": "execute_result"
    }
   ],
   "source": [
    "df.isna().sum()"
   ],
   "metadata": {
    "collapsed": false,
    "ExecuteTime": {
     "end_time": "2024-05-01T15:19:08.205933Z",
     "start_time": "2024-05-01T15:19:08.171959Z"
    }
   },
   "id": "5170949ee45f455b",
   "execution_count": 8
  },
  {
   "cell_type": "code",
   "outputs": [
    {
     "data": {
      "text/plain": "(131906, 19)"
     },
     "execution_count": 9,
     "metadata": {},
     "output_type": "execute_result"
    }
   ],
   "source": [
    "df.shape"
   ],
   "metadata": {
    "collapsed": false,
    "ExecuteTime": {
     "end_time": "2024-05-01T15:19:08.207184Z",
     "start_time": "2024-05-01T15:19:08.188171Z"
    }
   },
   "id": "d2533694f04de731",
   "execution_count": 9
  },
  {
   "cell_type": "code",
   "outputs": [
    {
     "data": {
      "text/plain": "nationality\nUnited States     42230\nUnited Kingdom    21931\nAustralia         12120\nCanada            10541\nGermany            3609\n                  ...  \nMali                  1\nSouth Sudan           1\nSuriname              1\nHaiti                 1\nGuinea                1\nName: count, Length: 205, dtype: int64"
     },
     "execution_count": 10,
     "metadata": {},
     "output_type": "execute_result"
    }
   ],
   "source": [
    "df['nationality'].value_counts()"
   ],
   "metadata": {
    "collapsed": false,
    "ExecuteTime": {
     "end_time": "2024-05-01T15:19:08.227087Z",
     "start_time": "2024-05-01T15:19:08.203905Z"
    }
   },
   "id": "fb23d1fa9f78c7",
   "execution_count": 10
  },
  {
   "cell_type": "code",
   "outputs": [],
   "source": [
    "def Route_extraction(route):\n",
    "    if pd.isna(route):\n",
    "        return {'departure': None, 'arrival': None}\n",
    "\n",
    "    # Define regex patterns to capture all route formats\n",
    "    patterns = {\n",
    "        'transit_to': r'([\\w\\s]+)\\sto\\s([\\w\\s]+)\\svia\\s([\\w\\s]+)',   # \"City Name to City Name via Transit Name\"\n",
    "        'transit_dash': r'([\\w\\s]+)-([\\w\\s]+)\\svia\\s([\\w\\s]+)',     # \"City Name-City Name via Transit Name\"\n",
    "        'direct_to': r'([\\w\\s]+)\\sto\\s([\\w\\s]+)',                   # \"City Name to City Name\"\n",
    "        'direct_dash': r'([\\w\\s]+)-([\\w\\s]+)'                       # \"City Name-City Name\"\n",
    "    }\n",
    "\n",
    "    for key, pattern in patterns.items():\n",
    "        match = re.search(pattern, route)\n",
    "        if match:\n",
    "            # Determine if the route is direct or has a transit\n",
    "            if 'via' in key:\n",
    "                return {\n",
    "                    'departure': match.group(1).strip(),\n",
    "                    'arrival': match.group(2).strip()\n",
    "                }\n",
    "            else:\n",
    "                return {\n",
    "                    'departure': match.group(1).strip(),\n",
    "                    'arrival': match.group(2).strip()\n",
    "                }\n",
    "\n",
    "    # If no pattern matches, return None for all fields\n",
    "    return {'departure': None, 'arrival': None}"
   ],
   "metadata": {
    "collapsed": false,
    "ExecuteTime": {
     "end_time": "2024-05-01T15:19:08.239816Z",
     "start_time": "2024-05-01T15:19:08.209749Z"
    }
   },
   "id": "d71405f89e59d95d",
   "execution_count": 11
  },
  {
   "cell_type": "code",
   "outputs": [
    {
     "data": {
      "text/plain": "0         {'departure': 'Moroni', 'arrival': 'Moheli'}\n1        {'departure': 'Moroni', 'arrival': 'Anjouan'}\n2      {'departure': 'Anjouan', 'arrival': 'Dzaoudzi'}\n3    {'departure': 'Frankfurt', 'arrival': 'Pristina'}\n4       {'departure': 'Sofia', 'arrival': 'Amsterdam'}\nName: route_info, dtype: object"
     },
     "execution_count": 12,
     "metadata": {},
     "output_type": "execute_result"
    }
   ],
   "source": [
    "df['route_info']=df['Route'].apply(Route_extraction)\n",
    "df['route_info'].head()"
   ],
   "metadata": {
    "collapsed": false,
    "ExecuteTime": {
     "end_time": "2024-05-01T15:19:09.177228Z",
     "start_time": "2024-05-01T15:19:08.219099Z"
    }
   },
   "id": "918b13e05adb9046",
   "execution_count": 12
  },
  {
   "cell_type": "code",
   "outputs": [
    {
     "data": {
      "text/plain": "flight_type\nDirect     106812\nTransit     25094\nName: count, dtype: int64"
     },
     "execution_count": 13,
     "metadata": {},
     "output_type": "execute_result"
    }
   ],
   "source": [
    "df['flight_type']=df['Route'].apply(lambda x: 'Transit' if isinstance(x,str) and 'via' in x else 'Direct')\n",
    "df['flight_type'].value_counts()"
   ],
   "metadata": {
    "collapsed": false,
    "ExecuteTime": {
     "end_time": "2024-05-01T15:19:09.200669Z",
     "start_time": "2024-05-01T15:19:09.163153Z"
    }
   },
   "id": "bf9dab5b70577557",
   "execution_count": 13
  },
  {
   "cell_type": "code",
   "outputs": [],
   "source": [
    "route_info=df['route_info'].apply(pd.Series)\n",
    "df=pd.concat([df,route_info],axis=1)\n",
    "df.drop(['route_info'], axis=1, inplace=True)"
   ],
   "metadata": {
    "collapsed": false,
    "ExecuteTime": {
     "end_time": "2024-05-01T15:19:18.907645Z",
     "start_time": "2024-05-01T15:19:09.196314Z"
    }
   },
   "id": "4195f63c6015cc92",
   "execution_count": 14
  },
  {
   "cell_type": "code",
   "outputs": [
    {
     "data": {
      "text/plain": "         airline rating     nationality                 date  \\\n0    ab-aviation      9     Netherlands   11th November 2019   \n1    ab-aviation      1  United Kingdom       25th June 2019   \n2    ab-aviation      1  United Kingdom       25th June 2019   \n3  adria-airways      1          Serbia  28th September 2019   \n4  adria-airways      1     Netherlands  24th September 2019   \n\n  Type Of Traveller      Seat Type                             Route  \\\n0      Solo Leisure  Economy Class                  Moroni to Moheli   \n1      Solo Leisure  Economy Class                 Moroni to Anjouan   \n2      Solo Leisure  Economy Class               Anjouan to Dzaoudzi   \n3      Solo Leisure  Economy Class             Frankfurt to Pristina   \n4    Couple Leisure  Economy Class  Sofia to Amsterdam via Ljubljana   \n\n       Date Flown  Seat Comfort  Cabin Staff Service  ...  Value For Money  \\\n0   November 2019           4.0                  5.0  ...              3.0   \n1       June 2019           2.0                  2.0  ...              2.0   \n2       June 2019           2.0                  1.0  ...              2.0   \n3  September 2019           1.0                  1.0  ...              1.0   \n4  September 2019           1.0                  1.0  ...              1.0   \n\n       Aircraft  Inflight Entertainment Wifi & Connectivity  Recommended  \\\n0           NaN                     NaN                 NaN          yes   \n1          E120                     NaN                 NaN           no   \n2  Embraer E120                     NaN                 NaN           no   \n3           NaN                     NaN                 NaN           no   \n4           NaN                     1.0                 1.0           no   \n\n   trip_verified                                             review  \\\n0              1  pretty decent airline  Moroni to Moheli. Turne...   \n1              1  Not a good airline Moroni to Anjouan. It is a ...   \n2              1  flight was fortunately short  Anjouan to Dzaou...   \n3              0  I will never fly again with Adria  Please do a...   \n4              1  it ruined our last days of holidays Do not boo...   \n\n   flight_type  departure    arrival  \n0       Direct     Moroni     Moheli  \n1       Direct     Moroni    Anjouan  \n2       Direct    Anjouan   Dzaoudzi  \n3       Direct  Frankfurt   Pristina  \n4      Transit      Sofia  Amsterdam  \n\n[5 rows x 22 columns]",
      "text/html": "<div>\n<style scoped>\n    .dataframe tbody tr th:only-of-type {\n        vertical-align: middle;\n    }\n\n    .dataframe tbody tr th {\n        vertical-align: top;\n    }\n\n    .dataframe thead th {\n        text-align: right;\n    }\n</style>\n<table border=\"1\" class=\"dataframe\">\n  <thead>\n    <tr style=\"text-align: right;\">\n      <th></th>\n      <th>airline</th>\n      <th>rating</th>\n      <th>nationality</th>\n      <th>date</th>\n      <th>Type Of Traveller</th>\n      <th>Seat Type</th>\n      <th>Route</th>\n      <th>Date Flown</th>\n      <th>Seat Comfort</th>\n      <th>Cabin Staff Service</th>\n      <th>...</th>\n      <th>Value For Money</th>\n      <th>Aircraft</th>\n      <th>Inflight Entertainment</th>\n      <th>Wifi &amp; Connectivity</th>\n      <th>Recommended</th>\n      <th>trip_verified</th>\n      <th>review</th>\n      <th>flight_type</th>\n      <th>departure</th>\n      <th>arrival</th>\n    </tr>\n  </thead>\n  <tbody>\n    <tr>\n      <th>0</th>\n      <td>ab-aviation</td>\n      <td>9</td>\n      <td>Netherlands</td>\n      <td>11th November 2019</td>\n      <td>Solo Leisure</td>\n      <td>Economy Class</td>\n      <td>Moroni to Moheli</td>\n      <td>November 2019</td>\n      <td>4.0</td>\n      <td>5.0</td>\n      <td>...</td>\n      <td>3.0</td>\n      <td>NaN</td>\n      <td>NaN</td>\n      <td>NaN</td>\n      <td>yes</td>\n      <td>1</td>\n      <td>pretty decent airline  Moroni to Moheli. Turne...</td>\n      <td>Direct</td>\n      <td>Moroni</td>\n      <td>Moheli</td>\n    </tr>\n    <tr>\n      <th>1</th>\n      <td>ab-aviation</td>\n      <td>1</td>\n      <td>United Kingdom</td>\n      <td>25th June 2019</td>\n      <td>Solo Leisure</td>\n      <td>Economy Class</td>\n      <td>Moroni to Anjouan</td>\n      <td>June 2019</td>\n      <td>2.0</td>\n      <td>2.0</td>\n      <td>...</td>\n      <td>2.0</td>\n      <td>E120</td>\n      <td>NaN</td>\n      <td>NaN</td>\n      <td>no</td>\n      <td>1</td>\n      <td>Not a good airline Moroni to Anjouan. It is a ...</td>\n      <td>Direct</td>\n      <td>Moroni</td>\n      <td>Anjouan</td>\n    </tr>\n    <tr>\n      <th>2</th>\n      <td>ab-aviation</td>\n      <td>1</td>\n      <td>United Kingdom</td>\n      <td>25th June 2019</td>\n      <td>Solo Leisure</td>\n      <td>Economy Class</td>\n      <td>Anjouan to Dzaoudzi</td>\n      <td>June 2019</td>\n      <td>2.0</td>\n      <td>1.0</td>\n      <td>...</td>\n      <td>2.0</td>\n      <td>Embraer E120</td>\n      <td>NaN</td>\n      <td>NaN</td>\n      <td>no</td>\n      <td>1</td>\n      <td>flight was fortunately short  Anjouan to Dzaou...</td>\n      <td>Direct</td>\n      <td>Anjouan</td>\n      <td>Dzaoudzi</td>\n    </tr>\n    <tr>\n      <th>3</th>\n      <td>adria-airways</td>\n      <td>1</td>\n      <td>Serbia</td>\n      <td>28th September 2019</td>\n      <td>Solo Leisure</td>\n      <td>Economy Class</td>\n      <td>Frankfurt to Pristina</td>\n      <td>September 2019</td>\n      <td>1.0</td>\n      <td>1.0</td>\n      <td>...</td>\n      <td>1.0</td>\n      <td>NaN</td>\n      <td>NaN</td>\n      <td>NaN</td>\n      <td>no</td>\n      <td>0</td>\n      <td>I will never fly again with Adria  Please do a...</td>\n      <td>Direct</td>\n      <td>Frankfurt</td>\n      <td>Pristina</td>\n    </tr>\n    <tr>\n      <th>4</th>\n      <td>adria-airways</td>\n      <td>1</td>\n      <td>Netherlands</td>\n      <td>24th September 2019</td>\n      <td>Couple Leisure</td>\n      <td>Economy Class</td>\n      <td>Sofia to Amsterdam via Ljubljana</td>\n      <td>September 2019</td>\n      <td>1.0</td>\n      <td>1.0</td>\n      <td>...</td>\n      <td>1.0</td>\n      <td>NaN</td>\n      <td>1.0</td>\n      <td>1.0</td>\n      <td>no</td>\n      <td>1</td>\n      <td>it ruined our last days of holidays Do not boo...</td>\n      <td>Transit</td>\n      <td>Sofia</td>\n      <td>Amsterdam</td>\n    </tr>\n  </tbody>\n</table>\n<p>5 rows × 22 columns</p>\n</div>"
     },
     "execution_count": 15,
     "metadata": {},
     "output_type": "execute_result"
    }
   ],
   "source": [
    "df.head()"
   ],
   "metadata": {
    "collapsed": false,
    "ExecuteTime": {
     "end_time": "2024-05-01T15:19:18.919875Z",
     "start_time": "2024-05-01T15:19:18.913547Z"
    }
   },
   "id": "8c78ed28f2af245d",
   "execution_count": 15
  },
  {
   "cell_type": "code",
   "outputs": [
    {
     "data": {
      "text/plain": "departure\nLondon                 2539\nToronto                1735\nLos Angeles            1547\nBangkok                1384\nSydney                 1349\n                       ... \nC                         1\nWashington DC Regan       1\nMilwauke                  1\nPortland OR               1\nSeuol                     1\nName: count, Length: 3993, dtype: int64"
     },
     "execution_count": 16,
     "metadata": {},
     "output_type": "execute_result"
    }
   ],
   "source": [
    "df['departure'].value_counts()"
   ],
   "metadata": {
    "collapsed": false,
    "ExecuteTime": {
     "end_time": "2024-05-01T15:20:27.563896Z",
     "start_time": "2024-05-01T15:20:27.555449Z"
    }
   },
   "id": "c6c5cfd3c8d7d787",
   "execution_count": 16
  },
  {
   "cell_type": "code",
   "outputs": [
    {
     "name": "stdout",
     "output_type": "stream",
     "text": [
      "['London', 'Toronto', 'Los Angeles', 'Bangkok', 'Sydney', 'New York', 'Singapore', 'Orlando', 'Melbourne', 'Las Vegas', 'Chicago', 'Amsterdam', 'Paris', 'Denver', 'Frankfurt', 'San Francisco', 'Dubai', 'Boston', 'Vancouver', 'Newark', 'Delhi', 'Miami', 'Kuala Lumpur', 'Atlanta', 'Hong Kong', 'Manila', 'Athens', 'Gatwick', 'Dallas', 'Seattle', 'Houston', 'Manchester', 'Lisbon', 'Mumbai', 'Barcelona', 'Dublin', 'Istanbul', 'Rome', 'Phoenix', 'London Heathrow', 'Madrid', 'Washington', 'Auckland', 'Brisbane', 'Tampa', 'Jakarta', 'Cancun', 'Fort Lauderdale', 'Philadelphia', 'Calgary', 'Munich', 'Johannesburg', 'Perth', 'Tokyo', 'Montreal', 'New York JFK', 'Edmonton', 'Doha', 'Brussels', 'Vienna', 'Detroit', 'Baltimore', 'Berlin', 'Guangzhou', 'Charlotte', 'Minneapolis', 'Tel Aviv', 'Milan', 'Portland', 'San Diego', 'Abu Dhabi', 'Honolulu', 'Beijing', 'Denpasar', 'Copenhagen', 'Salt Lake City', 'Mexico City', 'Prague', 'Austin', 'Budapest', 'Luton', 'Ft Lauderdale', 'Zurich', 'Cape Town', 'Bangalore', 'New Orleans', 'Nashville', 'Stansted', 'Moscow', 'Warsaw', 'Colombo', 'Seoul', 'Taipei', 'San Jose', 'Phuket', 'Cairo', 'Shanghai', 'Helsinki', 'Edinburgh', 'Hamilton', 'Birmingham', 'Bogota', 'Lima', 'London Gatwick', 'Bucharest', 'Stockholm', 'Dallas Ft Worth', 'Bali', 'Adelaide', 'Cleveland', 'Abbotsford', 'Chennai', 'Malaga', 'Hanoi', 'Ho Chi Minh City', 'Oslo', 'Indianapolis', 'Venice', 'Nairobi', 'Hyderabad', 'Pittsburgh', 'San Juan', 'Winnipeg', 'Halifax', 'Columbus', 'Punta Cana', 'Keflavik', 'Cincinnati', 'Osaka', 'Buenos Aires', 'Heathrow', 'Geneva', 'Kolkata', 'Paris CDG', 'Gold Coast', 'Glasgow', 'Larnaca', 'Sacramento', 'Sao Paulo', 'San Antonio', 'Kathmandu', 'Hartford', 'Kansas City', 'Ottawa', 'Jacksonville', 'Hamburg', 'Jeddah', 'Belgrade', 'Oakland', 'Amman', 'Raleigh', 'Riyadh', 'Chiang Mai', 'Sofia', 'Charleston', 'Beirut', 'Cebu', 'Porto', 'Fort Myers', 'Bahrain', 'Tokyo Narita', 'Nice', 'Cairns', 'Bristol', 'Bengaluru', 'Santiago', 'New Delhi', 'Ahmedabad', 'Dusseldorf', 'Muscat', 'Christchurch', 'Malta', 'Buffalo', 'Milwaukee', 'Kuwait', 'Norfolk', 'Puerto Vallarta', 'Dhaka', 'Faro', 'Raleigh Durham', 'Penang', 'La Guardia', 'Reykjavik', 'Male', 'Montego Bay', 'Casablanca', 'Medellin', 'Mauritius', 'Kochi', 'Pune', 'Myrtle Beach', 'Santorini', 'Kelowna', 'Providence', 'Naples', 'Guadalajara', 'Richmond', 'Alicante', 'Funchal', 'Ontario', 'Ho Chi Minh', 'Thessaloniki', 'Tenerife', 'Florence', 'Memphis', 'Riga', 'Newcastle', 'Paris Orly', 'Rio de Janeiro', 'Panama City', 'Tbilisi', 'Albuquerque', 'Oklahoma City', 'Washington DC', 'Grand Rapids', 'Syracuse', 'Tehran', 'Addis Ababa', 'Tokyo Haneda', 'Krakow', 'St Louis', 'Surabaya', 'LaGuardia', 'Catania', 'Anchorage', 'Quito', 'Belfast', 'Palma', 'Mexico', 'West Palm Beach', 'Omaha', 'Havana', 'Orange County', 'Antalya', 'Heraklion', 'Cologne', 'Reno', 'London City', 'Spokane', 'Marseille', 'Stuttgart', 'Accra', 'Düsseldorf', 'Knoxville', 'Phnom Penh', 'Krabi', 'Rochester', 'Durban', 'Cochin', 'Kona', 'Kiev', 'Islamabad', 'Tirana', 'Karachi', 'Victoria', 'Santo Domingo', 'Vilnius', 'Tijuana', 'Kigali', 'Zagreb', 'Shenzhen', 'Nadi', 'Boise', 'Savannah', 'Punta Gorda', 'Aruba', 'Hobart', 'Louisville', 'Ibiza', 'Lyon', 'Canberra', 'Cusco', 'Dammam', 'Dallas Fort Worth', 'São Paulo', 'Bologna', 'Maui', 'London Stansted', 'Valencia', 'Cartagena', 'Wellington', 'Lahore', 'Lagos', 'Pensacola', 'Dubrovnik', 'Baku', 'Queenstown', 'Almaty', 'Nassau', 'Panama', 'Asheville', 'Albany', 'Florida', 'Ft Myers', 'Liverpool', 'Marrakech', 'Kahului', 'Incheon', 'Des Moines', 'Luxembourg', 'Gdansk', 'Basel', 'Tucson', 'Ponta Delgada', 'Burbank', 'Kota Kinabalu', 'Chengdu', 'Colorado Springs', 'Yangon', 'Mykonos', 'Tulsa', 'Amritsar', 'Toulouse', 'Zanzibar', 'Entebbe', 'Seville', 'Narita', 'Sarasota', 'El Paso', 'Louis', 'Darwin', 'Santa Ana', 'Pisa', 'Key West', 'Split', 'Jaipur', 'Greenville', 'Seoul Incheon', 'Sanford', 'Bordeaux', 'Guatemala', 'Changsha', 'Tunis', 'Corfu', 'Aberdeen', 'Bilbao', 'Provo', 'Atlantic City', 'Yerevan', 'Siem Reap', 'Eindhoven', 'Rhodes', 'Washington Dulles', 'Palma de Mallorca', 'Palermo', 'Yogyakarta', 'Dalaman', 'London Luton', 'East Midlands', 'Tallinn', 'Montréal', 'San Salvador', 'Ankara', 'Sharjah', 'Langkawi', 'Gran Canaria', 'Da Nang', 'Santiago de Chile', 'New Haven', 'Zürich', 'Barbados', 'Trivandrum', 'Nantes', 'Kingston', 'Bogotá', 'Guayaquil', 'Kansai', 'Sorong', 'Mesa', 'Trenton', 'Denpasar Bali', 'Lucknow', 'Lanzarote', 'Skopje', 'Wichita', 'Harrisburg', 'St Petersburg', 'Ljubljana', 'Tashkent', 'Varadero', 'Port of Spain', 'Fresno', 'Sapporo', 'Saskatoon', 'Fuerteventura', 'Chicago O', 'Eugene', 'Dar es Salaam', 'Sarajevo', 'Puerto Rico', 'Chania', 'Kuching', 'Milan Malpensa', 'Burlington', 'Wuhan', 'Lombok', 'Windhoek', 'Papeete', 'Guwahati', 'Srinagar', 'Izmir', 'New York City', 'Managua', 'Wilmington', 'Bari', 'Lexington', 'Chisinau', 'Palm Springs', 'Bozeman', 'Hurghada', 'Hawaii', 'Townsville', 'Worth', 'Gothenburg', 'Springfield', 'Vientiane', 'Greensboro', 'Guatemala City', 'Minsk', 'Bergen', 'Shannon', 'El Salvador', 'Fargo', 'Paphos', 'La Paz', 'Medford', 'Caticlan', 'Los Cabos', 'Kilimanjaro', 'Destin', 'Madison', 'Columbia', 'Verona', 'Kitchener', 'Little Rock', 'Costa Rica', 'Cardiff', 'Ranchi', 'Lihue', 'Danang', 'Huntsville', 'Okinawa', 'Makassar', 'Chattanooga', 'Fukuoka', 'Harare', 'Leeds', 'Udon Thani', 'Patna', 'Las Palmas', 'Dakar', 'Cluj', 'Jamaica', 'Cali', 'Cancún', 'Fayetteville', 'Islip', 'Bagdogra', 'Chandigarh', 'Montevideo', 'Antigua', 'Hare', 'Palm Beach', 'Varanasi', 'Vegas', 'Algiers', 'Haneda', 'Lusaka', 'Sioux Falls', 'George', 'Xiamen', 'Cedar Rapids', 'Puerto Princesa', 'Seychelles', 'Cabo', 'Marrakesh', 'Hat Yai', 'Davao', 'St Thomas', 'Khon Kaen', 'İstanbul', 'Bellingham', 'Asturias', 'Bradley', 'Long Beach', 'San José', 'Missoula', 'Southampton', 'Berlin Tegel', 'Astana', 'Las vegas', 'Keflavík', 'Bridgetown', 'Tallahassee', 'Luanda', 'Kyiv', 'Santa Marta', 'Antananarivo', 'Monterrey', 'Dulles', 'Cork', 'Tenerife South', 'Khartoum', 'Allentown', 'Katowice', 'Strasbourg', 'Dallas Fort', 'Coimbatore', 'Bodrum', 'Subang', 'Oaxaca', 'Orlando Sanford', 'Cagliari', 'Saint Louis', 'Petersburg', 'Koh Samui', 'Nagoya', 'Clark', 'Flint', 'Port Moresby', 'Akron', 'Sunshine Coast', 'Peoria', 'Hannover', 'Chiang Rai', 'Mombasa', 'Mandalay', 'Reykjavík', 'South Bend', 'Alexandria', 'Liberia', 'Oklahoma', 'Medellín', 'Baltimore Washington', 'Dayton', 'Launceston', 'Douala', 'Concord', 'Curacao', 'Puerto Plata', 'Kozhikode', 'Saint Petersburg', 'Billund', 'Surat Thani', 'Bishkek', 'Johor Bahru', 'Redmond', 'Podgorica', 'Salt Lake', 'Salvador', 'Hangzhou', 'Olbia', 'Minnesota', 'Lviv', 'Jeju', 'Texas', 'Quebec', 'Windsor', 'Grand Cayman', 'Chongqing', 'Mahe', 'Lubbock', 'Abuja', 'Saigon', 'Dortmund', 'Madurai', 'Nanjing', 'Niagara Falls', 'Maputo', 'Lauderdale', 'Milano', 'Milan Linate', 'Varna', 'GuangZhou', 'Belleville', 'Bombay', 'Nuremberg', 'Kraków', 'Kunming', 'Legazpi', 'Phu Quoc', 'Freetown', 'Innsbruck', 'Kuala lumpur', 'Hilo', 'St Lucia', 'Leeds Bradford', 'Mexico city', 'Wroclaw', 'Waterloo', 'Quebec City', 'Zakynthos', 'Medan', 'Pereira', 'Cozumel', 'Bratislava', 'Abidjan', 'Midland', 'Salzburg', 'Belize', 'Mangalore', 'Dalian', 'Iloilo', 'Kalispell', 'Cabo San Lucas', 'Jackson', 'Curaçao', 'Busan', 'Bangor', 'Regina', 'Cayo Coco', 'Nha Trang', 'Clearwater', 'Latrobe', 'Ubon Ratchathani', 'Fort Walton Beach', 'Poznan', 'Ercan', 'Bandung', 'Rapid City', 'Surat', 'Durango', 'Tangier', 'Luang Prabang', 'Westchester', 'Billings', 'Gibraltar', 'Málaga', 'Mallorca', 'Port Elizabeth', 'Georgetown', 'Pasco', 'Madeira', 'Roanoke', 'Crete', 'Holguin', 'Durham', 'Bergamo', 'Toronto Pearson', 'Appleton', 'Noumea', 'Dunedin', 'Menorca', 'Banjul', 'Macau', 'Erbil', 'Genoa', 'Bremen', 'Nagpur', 'Idaho Falls', 'Mazatlan', 'Moncton', 'Chicago Midway', 'Aguadilla', 'Turin', 'Jersey', 'Bhubaneswar', 'Midway', 'Timisoara', 'Fairbanks', 'Guam', 'Milan Bergamo', 'Southend', 'Brindisi', 'Inverness', 'Calicut', 'Colombia', 'JFK New York', 'Arrecife', 'Merida', 'Green Bay', 'Iasi', 'Thunder Bay', 'Xian', 'Kayseri', 'Rome Fiumicino', 'New Jersey', 'Hamilton Island', 'Stewart', 'Semarang', 'Kaohsiung', 'Rotterdam', 'Caracas', 'Madinah', 'Providenciales', 'Port Blair', 'Visakhapatnam', 'Rhode Island', 'Fort Wayne', 'Marseilles', 'Newburgh', 'Fortaleza', 'Knock', 'Bacolod', 'Augusta', 'Santa Clara', 'Kefalonia', 'Jammu', 'Salalah', 'Lilongwe', 'Kazan', 'Gulfport', 'Kinshasa', 'Sochi', 'Kauai', 'Arizona', 'Sharm El Sheikh', 'Odessa', 'Aspen', 'Ohio', 'Cuba', 'las Vegas', 'Napoca', 'Portsmouth', 'Banglore', 'St Petersburgh', 'Tivat', 'St Pete Clearwater', 'Bismarck', 'Montpellier', 'Ko Samui', 'Kansas city', 'Jackson Hole', 'Jayapura', 'Shenyang', 'Leon', 'Huatulco', 'Guernsey', 'Lille', 'Recife', 'Cincinatti', 'Rabat', 'Oporto', 'Corpus Christi', 'Sharm el Sheikh', 'Arequipa', 'Gdańsk', 'Udaipur', 'Stavanger', 'Roma', 'Iceland', 'Morelia', 'Shanghai Pudong', 'Fredericton', 'Victoria Falls', 'Rome Ciampino', 'Harbin', 'Haikou', 'Ajaccio', 'Fort lauderdale', 'Busuanga', 'Dumaguete', 'Santa Barbara', 'Baghdad', 'Charlottetown', 'Cuzco', 'Fort Walton', 'Sevilla', 'Agadir', 'Santiago de Compostela', 'Luxor', 'Tahiti', 'Lanseria', 'Timmins', 'California', 'Daytona Beach', 'Lansing', 'Brussels Charleroi', 'Cluj Napoca', 'Dominican Republic', 'Terceira', 'Sao Paolo', 'Medina', 'Zhengzhou', 'Miri', 'Bloemfontein', 'Tromso', 'Shreveport', 'Northwest Arkansas', 'Kalibo', 'Santa Cruz', 'Grenada', 'Mahon', 'San Andres', 'Jerez', 'Dar Es Salaam', 'Thiruvananthapuram', 'Freeport', 'Tblisi', 'Santa Rosa', 'Manado', 'Trondheim', 'Orlando Florida', 'Colorado', 'Amarillo', 'Lome', 'Gainesville', 'Bermuda', 'Murcia', 'Jabalpur', 'Proserpine', 'Moline', 'Acapulco', 'Asuncion', 'Bonaire', 'Cyprus', 'Rarotonga', 'Dehradun', 'México City', 'Tagbilaran', 'Hi Chi Minh City', 'Fuzhou', 'Urumqi', 'Fort Worth', 'Kabul', 'St Maarten', 'Wenzhou', 'Baton Rouge', 'Maldives', 'Lafayette', 'Mobile', 'Reunion', 'Skiathos', 'New York LaGuardia', 'Coffs Harbour', 'East London', 'Turkey', 'Dushanbe', 'Trieste', 'Qingdao', 'Orlando FL', 'Belize City', 'Belo Horizonte', 'Granada', 'Kaunas', 'Norwich', 'Rajkot', 'Great Falls', 'Fort Meyers', 'Stockton', 'Boracay', 'McAllen', 'San Sebastian', 'Mendoza', 'Aviv', 'Arusha', 'Tianjin', 'San Fransisco', 'Pristina', 'Canada', 'Ushuaia', 'Nelson', 'Bournemouth', 'Jinan', 'Rovaniemi', 'Long Island', 'Sibiu', 'Praia', 'Labuan Bajo', 'Napier', 'Nürnberg', 'St Johns', 'Seoul Gimpo', 'Bangkok Suvarnabhumi', 'Pontianak', 'Pyongyang', 'Rockford', 'Orly', 'Flores', 'San Jose del Cabo', 'Grand Junction', 'Utah', 'Malé', 'Westchester County', 'Stockholm Arlanda', 'Doncaster', 'Monterey', 'Iguazu', 'Washington DCA', 'Oregon', 'Ipoh', 'Tampa Bay', 'Traverse City', 'Vail', 'Killeen', 'Newport News', 'Osaka Kansai', 'Bhopal', 'Ballina', 'Salt lake city', 'Laguardia', 'Lourdes', 'Arkansas', 'Charlottesville', 'Bastia', 'Nanning', 'Tortola', 'Saint John', 'St Pete', 'Pula', 'Trinidad', 'Elmira', 'Ashville', 'Myrtle beach', 'Naxos', 'Thomas', 'Cape town', 'Las Vegas NV', 'Dresden', 'Brunei', 'Barranquilla', 'Chitose', 'Chișinău', 'Hanover', 'Bruxelles', 'Shiraz', 'Ho Chi Minh city', 'Kansas', 'Brussel', 'San Pedro', 'Palembang', 'Calama', 'Evansville', 'Gold coast', 'New York LGA', 'Gaborone', 'Aguascalientes', 'Cochi', 'Atyrau', 'Coron', 'Vigo', 'A Coruña', 'Queretaro', 'Tacloban', 'Indore', 'Tallin', 'Spain', 'Toronto City', 'Australia', 'Bahamas', 'Houston Hobby', 'Kutaisi', 'Sudbury', 'Conakry', 'Key west', 'Kalamazoo', 'Batam', 'Lebanon', 'El Calafate', 'Easter Island', 'Cordoba', 'Ahmadabad', 'Faisalabad', 'Scranton', 'Oulu', 'Preveza', 'Padang', 'Blantyre', 'Bandar Seri Begawan', 'Paris Beauvais', 'Flagstaff', 'Shirdi', 'Novosibirsk', 'Monrovia', 'Bangkok Don Muang', 'Daytona', 'Derry', 'Pointe', 'Apia', 'Punta Arenas', 'Duluth', 'Palma Mallorca', 'Zadar', 'White Plains', 'Rennes', 'Nouakchott', 'Belfast City', 'Dili', 'Raipur', 'Vladivostok', 'Monroe', 'Ulaanbaatar', 'Puerto Galera', 'Ho chi Minh', 'Harlingen', 'Kota Bharu', 'North Carolina', 'Mackay', 'Duesseldorf', 'Roatan', 'Bloomington', 'Los Ángeles', 'Sultan', 'Sandakan', 'Palmerston North', 'Port Vila', 'Pheonix', 'Simferopol', 'Kupang', 'Sanford Orlando', 'Honiara', 'Erie', 'Tirupati', 'Thailand', 'Fort de France', 'Saint Martin', 'Alice Springs', 'Zante', 'Moscow Vnukovo', 'Vijayawada', 'Whitehorse', 'Bariloche', 'Plattsburgh', 'Gladstone', 'Yekaterinburg', 'Austin Texas', 'Rapid city', 'Huntington', 'Basra', 'Dominica', 'Tawau', 'Alaska', 'Charleroi', 'Bakersfield', 'Cologne Bonn', 'Veracruz', 'Hermosillo', 'Zihuatanejo', 'Thira', 'Tri Cities', 'Dalat', 'Rome FCO', 'Ponta Delgado', 'Kerry', 'Frankfurt Hahn', 'Memmingen', 'Oahu', 'Aalborg', 'Krasnodar', 'Washington Reagan', 'Alghero', 'Tauranga', 'El Nido', 'Iquitos', 'Coolangatta', 'Limoges', 'Ayers Rock', 'Kannur', 'New Plymouth', 'Torreon', 'Heho', 'Saint Lucia', 'Hilton Head', 'Japan', 'Salta', 'Connecticut', 'Abbottsford', 'Salt lake City', 'Humberside', 'Figari', 'Nanaimo', 'Dallas Love Field', 'Natal', 'Santa Fe', 'Cebu City', 'Lynchburg', 'Ixtapa', 'Pittsburg', 'Georgia', 'Tabuk', 'Yuma', 'San Jose Cabo', 'newark', 'Michigan', 'Deer Lake', 'Vadodara', 'Naha', 'Boston Logan', 'Odesa', 'St John', 'Kosice', 'Sao Tome', 'Santa Maria', 'San Pedro Sula', 'Hahn', 'Sint Maarten', 'Tunisia', 'Lanzhou', 'Chihuahua', 'Brno', 'Kumasi', 'Kochin', 'Juneau', 'Aqaba', 'new York', 'Paro', 'Columbus Ohio', 'Burgas', 'Pokhara', 'Murmansk', 'Saint Paul', 'Manilla', 'Samara', 'Rijeka', 'New Bern', 'State College', 'Newquay', 'General Santos', 'Santander', 'Adana', 'Malpensa', 'Siargao', 'Laoag', 'Milos', 'Nicaragua', 'Exeter', 'Ashgabat', 'Kuantan', 'Eleuthera', 'Marsa Alam', 'Maun', 'Jogjakarta', 'Multan', 'Târgu Mureș', 'Zhuhai', 'La Vegas', 'Prince George', 'San Fransico', 'Aswan', 'Leipzig', 'Broome', 'Banjarmasin', 'Ft lauderdale', 'Debrecen', 'Pekanbaru', 'Nursultan', 'St Croix', 'Philidelphia', 'Toulon', 'Nantucket', 'Montego bay', 'Bhubaneshwar', 'Reus', 'France', 'United States', 'Taiwan', 'Abilene', 'Nanchang', 'Djerba', 'Sanya', 'Kalamata', 'Moscow SVO', 'Shanghai Hongqiao', 'Port au Prince', 'India', 'Guiyang', 'Atlanta GA', 'Irkutsk', 'David', 'New York La Guardia', 'Hiroshima', 'Port Harcourt', 'Jambi', 'Djibouti', 'Samui', 'Phnom Phen', 'Trat', 'Berlin TXL', 'Turku', 'Graz', 'Reagan', 'Gimpo', 'Netherlands', 'Torino', 'Arcata', 'Redding', 'Penticton', 'Marie', 'Bucaramanga', 'Göteborg', 'Suva', 'Sydney Australia', 'Lincoln', 'York', 'Dallas DFW', 'Rio De Janeiro', 'Napoli', 'Istambul', 'Stanstead', 'Honduras', 'México', 'Sweden', 'Mexicali', 'Tiblisi', 'Altoona', 'Missouri', 'Dallas TX', 'Bamako', 'Köln', 'Lawton', 'Hong kong', 'Almeria', 'Moscow Domodedovo', 'Paramaribo', 'Guyana', 'Zaragoza', 'Fiji', 'Johanesburg', 'Cam Ranh', 'Darbhanga', 'Trang', 'Salt Lake city', 'Saint Thomas', 'Girona', 'Treviso', 'Indiana', 'North Eleuthera', 'Ha Noi', 'Bangkok DMK', 'Lisboa', 'Sibu', 'Brasília', 'Montrose', 'Los Angles', 'Bandar seri Begawan', 'orlando', 'Monastir', 'Raleigh NC', 'Rotorua', 'Johor', 'Spartanburg', 'Tiruchirappalli', 'Prestwick', 'Akron Canton', 'Dharamshala', 'South Carolina', 'Mogadishu', 'San Luis Obispo', 'John Wayne', 'Tennessee', 'Hoedspruit', 'Albury', 'Beauvais', 'Montana', 'Charlotte NC', 'Chiangmai', 'New York Stewart', 'Najaf', 'SeaTac', 'Toledo', 'Ho chi Minh City', 'Exuma', 'Piedmont', 'Da Lat', 'Barre', 'Homer', 'Kamenogorsk', 'Sialkot', 'Libreville', 'Helsinki Vantaa', 'Casper', 'Massena', 'Ho Chi Min City', 'Peru', 'Zacatecas', 'San Luis Potosi', 'Medinah', 'Indonesia', 'Tambor', 'Dar es Salam', 'Dzaoudzi', 'Tamale', 'Pitre', 'Juarez', 'Asunción', 'Baltimore MD', 'Suceava', 'Trichy', 'Geneve', 'Addis', 'Marsh Harbour', 'Madagascar', 'Wien', 'Puerto Maldonado', 'Samarkand', 'Germany', 'Labuan', 'Livingstone', 'Solo', 'Luxemburg', 'Tobago', 'Kamloops', 'Venice Marco Polo', 'singapore', 'Argentina', 'Kavala', 'Phitsanulok', 'San diego', 'Kharkov', 'Philippines', 'Ketchikan', 'Malmo', 'Santiago de Cuba', 'Maine', 'Las Palmas de Gran Canaria', 'Cagayan de Oro', 'Bergerac', 'Minot', 'Daraga', 'Hayden', 'Majorca', 'Midway Chicago', 'Los Angeles CA', 'Portland Oregon', 'Kimberley', 'Everett', 'Port Hedland', 'Mildura', 'Phoenix Mesa', 'Nurnberg', 'Uyuni', 'Armidale', 'Larnaka', 'Arlanda', 'Israel', 'Brazil', 'Tyumen', 'George Town', 'Panamá City', 'Stornoway', 'Pointe a Pitre', 'Ft Walton', 'Bentonville', 'Frankfort', 'Yellowknife', 'istanbul', 'Mae Sot', 'Sault Ste', 'Madina', 'Lamezia', 'Bohol', 'Trinidad and Tobago', 'Carcassonne', 'Bangkok Don Mueang', 'Ancona', 'Talara', 'Ouagadougou', 'St Kitts', 'Puerto Escondido', 'Milano Malpensa', 'Chios', 'Phoenix AZ', 'Guanajuato', 'Ogdensburg', 'Paros', 'Ciudad Juarez', 'Tuxtla Gutierrez', 'Kaliningrad', 'Punta cana', 'Austin TX', 'Biarritz', 'Los Angeles LAX', 'Nuremburg', 'Denver CO', 'Cayenne', 'Hartford CT', 'Fort', 'Grenoble', 'Okinawa Naha', 'New york', 'Florianopolis', 'Wisconsin', 'Sao Vicente', 'Armenia', 'Avalon', 'Curitiba', 'Trabzon', 'Cayo Santa Maria', 'Buriram', 'Jaisalmer', 'Ft Wayne', 'Kisumu', 'Mérida', 'Nuuk', 'Portland OR', 'Denver Colorado', 'Atlantic city', 'Eureka', 'Ubon', 'Abbostford', 'Saint Croix', 'Bejing', 'Puerto Princessa', 'Italy', 'Norfolk Island', 'Brownsville', 'Guilin', 'San Jose Costa Rica', 'Banda Aceh', 'Kualanamu', 'Minneapolis St Paul', 'Xining', 'Manchester UK', 'Morocco', 'Bandar Lampung', 'New Chitose', 'Turks and Caicos', 'Laredo', 'Dehli', 'Indianopolis', 'Wilkes Barre', 'Saipan', 'Abbotsford BC', 'Manaus', 'Tenerife south', 'San José del Cabo', 'Tampa FL', 'Bocas del Toro', 'St Vincent', 'Castlegar', 'Toluca', 'Virgin Islands', 'Jharsuguda', 'Pantelleria', 'Albany NY', 'Agartala', 'Cleveland OH', 'Vaasa', 'Baltra', 'Kirkwall', 'Abu dhabi', 'Boston MA', 'Gwalior', 'Culiacan', 'Lake Charles', 'Chile', 'Sulaymaniyah', 'Don Mueang', 'Hatyai', 'Denpassar', 'Yaoundé', 'Cracow', 'Amesterdam', 'Lubumbashi', 'Kuwait City', 'Kalgoorlie', 'West Palm beach', 'Devonport', 'Jodhpur', 'Franfurt', 'La Rochelle', 'Otopeni', 'Las Angeles', 'Warsaw Modlin', 'Bundaberg', 'Mineralnye Vody', 'Zaporizhia', 'Glasgow Prestwick', 'Tahoe', 'Long beach', 'Oklahoma city', 'Santiago de los Caballeros', 'Worcester', 'Jordan', 'Uluru', 'Mashhad', 'San Cristobal', 'Cayman Islands', 'Istanbul Ataturk', 'Marion', 'Puerto Montt', 'Brasilia', 'Merimbula', 'Nasville', 'Cucuta', 'Ostrava', 'Mebourne', 'Rurrenabaque', 'Dallas Ft', 'Goldcoast', 'La Coruña', 'Foz do Iguaçu', 'Wilkes', 'Nakhon Si Thammarat', 'Dallas Texas', 'Pennsylvania', 'St Martin', 'Kagoshima', 'Toronto Island', 'Tuxtla', 'Panamá', 'Weeze', 'Windsor Locks', 'Sheikh', 'Northwest Florida Beaches', 'Edremit', 'London Southend', 'Ishigaki', 'Ayodhya', 'Malmö', 'Abottsford', 'Malacca', 'Dar Es salaam', 'Los Mochis', 'Mazatlán', 'Grande Prairie', 'Ho chi minh city', 'Tel aviv', 'Durgapur', 'Cotonou', 'Lanai', 'Eldoret', 'DaNang', 'Urgench', 'Muscle Shoals', 'Silchar', 'Batumi', 'Kanpur', 'Puerto Iguazu', 'Pucallpa', 'Kerala', 'Ciudad Juárez', 'Abha', 'Udon thani', 'Bydgoszcz', 'Berau', 'Bengkulu', 'Yahukimo', 'Dar es salaam', 'Malang', 'Balikpapan', 'Kittila', 'Kendari', 'Rutland', 'Saba', 'Koln', 'Karpathos', 'Münich', 'Landvetter', 'Rekjavik', 'Kaimana', 'Great Exuma', 'Concepcion', 'Surigao', 'Puebla', 'Kuala Terengganu', 'Isfahan', 'Savannakhet', 'Teesside', 'Leticia', 'Newark NJ', 'Maarten', 'Shangai', 'Islay', 'Porto Alegre', 'Rzeszow', 'Friedrichshafen', 'Paducah', 'Pohnpei', 'Isle of Man', 'Ndola', 'Thandwe', 'Dubia', 'Paris ORY', 'new York JFK', 'Tegel', 'Houston TX', 'Berlin Brandenburg', 'london', 'Walvis Bay', 'Aukland', 'Panama city', 'Bocas del Torro', 'Warri', 'Taipei City', 'Tambolaka', 'Al Ula', 'Sao Paulo GRU', 'Rio de janeiro', 'Azores', 'San Juan PR', 'Philadelphia PA', 'Williston', 'Horta', 'Peshawar', 'Cuenca', 'Guanacaste', 'West Palm', 'Myers', 'Asmara', 'Lefkosa', 'London LHR', 'La Palma', 'Puerta Vallarta', 'Ambon', 'İzmir', 'Moroni', 'Saginaw', 'Cody', 'Aurangabad', 'Tegucigalpa', 'Gorakhpur', 'Ecuador', 'Baltra Island', 'Whangarei', 'Hokitika', 'Tweed', 'Invercargill', 'Kiev Boryspil', 'Niue', 'Klagenfurt', 'Viena', 'Ohrid', 'Praslin', 'Nagasaki', 'Samana', 'Okayama', 'Alor Setar', 'Malaysia', 'Chiang mai', 'Kuala Namu', 'Kangerlussuaq', 'Trujillo', 'Cameroon', 'Vero Beach', 'Shymkent', 'Bonn', 'Terrace', 'Greece', 'Bharatpur', 'Fort McMurray', 'Comox', 'Caen', 'Rio de Janiero', 'Loreto', 'Lucia', 'Show Low', 'HCMC', 'Bucuresti', 'Calvi', 'Manokwari', 'Oran', 'Istanbul Sabiha Gokcen', 'Vietnam', 'Beaumont', 'Pointe A Pitre', 'Kuala Lampur', 'Owensboro', 'Canton', 'Pittsburgh PA', 'Sioux City', 'Knoxville TN', 'Bourgas', 'Salem', 'Mysore', 'Port Macquarie', 'Portugal', 'Salisbury', 'Croix', 'Cleveland Ohio', 'Narathiwat', 'Ft Worth', 'St louis', 'Marquette', 'Paul', 'Jackson hole', 'Idaho falls', 'Vishakhapatnam', 'Newark Airport', 'Pattaya', 'Polokwane', 'Nelspruit', 'Pullman', 'Helena', 'Bozeman MT', 'Allentown PA', 'Mesa Gateway', 'Sandford', 'Hagerstown', 'West Virginia', 'Destin Fort Walton', 'Louisiana', 'Tabriz', 'Ft Walton Beach', 'Tokyo NRT', 'Shenzen', 'Ningbo', 'San Luis', 'Hefei', 'Bankgok', 'Yinchuan', 'Mytilini', 'Panglao', 'Santiago De Compostela', 'Antwerp', 'Mytilene', 'Changzhou', 'Legaspi', 'Los angeles', 'Omsk', 'Ireland', 'Hong Hong', 'Yantai', 'Changchun', 'Aeroparque', 'Hobbs', 'the Gold Coast', 'Denizli', 's Bazar', 'Griffith', 'Istanbul SAW', 'Wagga Wagga', 'Prishtina', 'Burnie', 'salt Lake City', 'Puerto vallarta', 'Munch', 'Grand Island', 'Tangiers', 'Seatle', 'Tacoma', 'Munchen', 'Taif', 'Davao City', 'Sihanoukville', 'Punta Gorda Florida', 'Sanford FL', 'Sabah', 'Sunshine coast', 'Nevada', 'Cloud', 'Maroochydore', 'Port', 'Tbilissi', 'Fiumicino', 'Rockhampton', 'Ponce', 'Cibao', 'Wausau', 'Ho Chin Minh City', 'Rochester NY', 'Gazipasa', 'Lulea', 'Anchorage AK', 'Rodez', 'SIngapore', 'Warszawa', 'Saratov', 'Martha', 'Aizwal', 'Bocas Del Toro', 'Pico', 'Utapao', 'Ahemdabad', 'Melilla', 'Central Wisconsin', 'Hua Hin', 'Mississippi', 'US Virgin Islands', 'Greenville SC', 'Bimini', 'Haiti', 'Puerto Iguazú', 'Aitutaki', 'Benguluru', 'Bradford', 'Chicago Rockford', 'Steamboat Springs', 'Reykavik', 'Torp', 'Essaouira', 'Tenerife North', 'Pescara', 'Pietermaritzburg', 'Bora Bora', 'Lamezia Terme', 'Johannesberg', 'Lublin', 'Dinard', 'Fuertaventura', 'brussels', 'Palanga', 'Poitiers', 'Vermont', 'Federal Territory of Kuala Lumpur', 'Rickenbacker', 'Saint', 'Nouméa', 'Jagdalpur', 'Galapagos Islands', 'Fort Lauderdale FL', 'Iguazu Falls', 'Korea', 'San Andrés', 'Newyork', 'Skavsta', 'Bhuj', 'Santiago Chile', 'Anguilla', 'Keshod', 'Agatti', 'Ujung Pandang', 'Jacksonville FL', 'Sibolga', 'St Petersburg Clearwater', 'Asheville NC', 'Tripoli', 'Sitia', 'Savanna', 'South bend', 'Campo Grande', 'Chisinău', 'Pretoria', 'Kilamanjaro', 'Anjouan', 'Durham Tees Valley', 'Joplin', 'Kuala Lumpar', 'San Jose Del Cabo', 'St George', 'Sydney to', 'Bali Denpasar', 'Tri cities', 'Pakse', 'Bangkok Don Mueng', 'Tuscon', 'João Pessoa', 'Eagle County', 'Jackson MS', 'Stornaway', 'Miami FL', 'Barra', 'Niagara Falls NY', 'Ranong', 'Taipei Songshan', 'Bragança', 'Kamchatsky', 'Quepos', 'Nauru', 'Ogden', 'Skukuza', 'Hadyai', 'Kununurra', 'Rize', 'Roi Et', 'Rwanda', 'Rio de Janerio', 'Orlando International', 'Tromsø', 'Kentucky', 'Arlanda Stockholm', 'Garden City', 'Guadeloupe', 'Cascais', 'Hilton Head Island', 'Wrocław', 'Illinois', 'Martinique', 'Poland', 'Warszaw', 'Košice', 'Enfidha', 'Peoria IL', 'München', 'New orleans', 'Timișoara', 'Toulouse to New', 'San Paulo', 'Nuernberg', 'Reno NV', 'Lawas', 'Gunung Mulu National Park', 'Seattle Tacoma', 'Fuvahmulah', 'Kobe', 'Tarapoto', 'chicago', 'Sylhet', 'Nah Trang', 'Hồ Chí Minh', 'Lijiang', 'Da nang', 'Luoyang', 'Vancover', 'Katmandu', 'Juliaca', 'Montería', 'La Gaurdia', 'Las Vega', 'León', 'Foz do Iguacu', 'Butuan', 'Smithers', 'Atenas', 'A Coruna', 'Brest', 'Moscow Zhukovsky', 'Reynosa', 'fort Lauderdale', 'Laramie', 'Thunder bay', 'Meridian', 'Berwick', 'Hailaer', 'los Angeles', 'Cayo Largo', 'Batimore', 'Mcallen', 'Moab', 'Capetown', 'Québec', 'Wuxi', 'Kona Hawaii', 'Orange County CA', 'Tenerife Sur', 'Genova', 'Oviedo', 'Egypt', 'Nur Sultan', 'Athens Greece', 'Aktobe', 'Montpelier', 'Rostov', 'San Francicso', 'Bacau', 'Buenos Aires AEP', 'Milán', 'Ternate', 'Komodo', 'Jakarta Soekarno', 'Ezeiza', 'Saltillo', 'Mae Hong Son', 'Suvarnabhumi', 'Tapachula', 'Oskemen', 'Guadalaraja', 'St Denis', 'Pavlodar', 'Botswana', 'Austria', 'barcelona', 'Sault Ste Marie', 'Toyko', 'Bodo', 'Kristiansand', 'Sandefjord', 'Bima', 'Wamena', 'Toronto Pearson Airport', 'Manizales', 'Saudi Arabia', 'Karlsruhe', 'Tuzla', 'Lasi', 'napoca', 'Orlando MCO', 'Tampa International', 'Schiphol', 'Quanzhou', 'Hargeisa', 'Anchorage Alaska', 'HKHG', 'Los Vegas', 'Santa Domingo', 'Kuusamo', 'Manchester NH', 'BROOKLYN', 'Finland', 'Indinapolis', 'Chenna', 'Dar es Saalam', 'Arlington', 'New Zealand', 'Kerikeri', 'Houston Texas', 'Nepal', 'Thiruvanthapuram', 'Denver International', 'Detroit MI', 'Juba', 'toronto', 'Kitchener Waterloo', 'Salt lake', 'Nyaung', 'Cambodia', 'Orlanda', 'san Francisco', 'La Serena', 'Rio Hato', 'Queensland', 'Bulawayo', 'Dar es salam', 'Valletta', 'Shanghai PVG', 'Chicago IL', 'Grand rapids', 'Tampa Florida', 'Panama City Beach', 'OR Tambo', 'Bengalore', 'Bhavnagar', 'Karaganda', 'Ajmer', 'Buka', 'Mt Hagen', 'Hoskins', 'Adampur', 'Hubli', 'Zambia', 'Ethiopia', 'Brampton', 'Mactan', 'Ostend', 'Mosco', 'Sri Lanka', 'Culiacán', 'Yaounde', 'Fuertuventura', 'Alanya', 'Denmark', 'Kazakhstan', 'MIami', 'Senegal', 'Lvov', 'Konya', 'Mashad', 'Manzanillo', 'Bosto', 'St Paul', 'Amersterdam', 'Jacksonville Florida', 'San francisco', 'Niamey', 'Ukraine', 'Jessore', 'Craiova', 'Coca', 'Tiruchirapalli', 'Porto Santo', 'Perpignan', 'Tel Avivi', 'China', 'Dibrugarh', 'Mangaluru', 'Hokkaido', 'Ghana', 'México city', 'Havanna', 'Don Muang', 'Istanbul Sabiha', 'Kenya', 'Haneda Tokyo', 'Ithaca', 'madrid', 'New Brunswick', 'Bogotà', 'Totonto', 'La Coruna', 'Otttawa', 'Kahalui', 'Haugesund', 'London City Airport', 'Krasnoyarsk', 'Lanzorote', 'Taipei Taoyuan', 'Tenerife Sud', 'Ft McMurray', 'San Sebastián', 'Johannesburg OR Tambo', 'Kasane', 'Kalymnos', 'Lamu', 'Orlando Intl', 'Berlin Schoenefeld', 'Bangui', 'Zakinthos', 'South Korea', 'Washington D', 'Idaho', 'Stockholm Skavsta', 'Yafo', 'Roswell', 'San Jose del cabo', 'Golfito', 'Baoshan', 'Ivalo', 'Hong', 'Oman', 'Alabama', 'Singapore Changi', 'Osaka Itami', 'Hohhot', 'Suratthani', 'Hartford Bradley', 'British Columbia', 'Taiyuan', 'hare', 'Tamworth', 'Philadephia', 'Seletar', 'Kota Bahru', 'Bradley International', 'Point a Pitre', 'Las  Vegas', 'Biloxi', 'Gerona', 'Piarco', 'Soul', 'Perugia', 'Virginia', 'Phoenix Sky Harbor', 'Banyuwangi', 'Punta Cana DR', 'College Station', 'Maryland', 'Tanahmerah', 'Virginia Beach', 'Gaya', 'Binghamton', 'Depasar', 'Esbjerg', 'Myrtle Beach SC', 'Bend', 'Sharm el Sheik', 'Cappadocia', 'Kansa', 'Seattle Washington', 'Astrakhan', 'Mercer', 's Vineyard', 'Grand Forks', 'San Juan Puerto Rico', 'Nicosia', 'Port Of Spain', 'Henderson', 'Bissau', 'Bergstrom', 'Culebra', 'Philly', 'La Guardia NY', 'Lewiston', 'Butuan City', 'Ansterdam', 'Milano Bergamo', 'Orange', 'Funchal Madeira', 'Ho chi minh', 'Brunswick', 'ShangHai', 'Vancouver Canada', 'Seatac', 'Najran', 'Maastricht', 'Lyons', 'Iron Mountain', 'Erevan', 'Biratnagar', 'Tibilisi', 'Los Angels', 'Sao Paul', 'BeiJing', 'Bogota El Dorado', 'Guanghzou', 'San Jose International', 'Wichita Falls', 'Lomé', 'Dongying', 'Bradley Intl', 'Labasa', 'Guangzou', 'guangzhou', 'boston', 'Tenerife Norte', 'Yangzhou', 'San Antonio TX', 'Punta  Cana', 'Melbourne Australia', 'Mekele', 'Mbeya', 'Cape verde', 'Kansai International', 'Bujumbura', 'Bankok', 'Thiruvananthapura', 'Rhodos', 'Quy Nhon', 'San Angelo', 'Sukhothai', 'Xuzhou', 'Koh samui', 'Kinmen', 'New York Jfk', 'Kenai', 'Tapao', 'Río de Janeiro', 'Melbourne Avalon', 'Guarulhos', 'Narita Tokyo', 'Guangdong', 'San Jose CR', 'DesMoines', 'Kishangarh', 'Cortez', 'Santa Cruz de La Palma', 'Pondicherry', 'Minneapolis St', 'John wayne', 'Sinhapore', 'Ignacio Agramonte', 'Wollongong', 'Los  Angeles', 'Antwerpen', 'Hing Kong', 'Puket', 'Flirt Lauderdale', 'Athena', 'San Juan de Puerto Rico', 'Saranac Lake', 'Cocos', 'Erfurt', 'Changsa', 'Kaohshiung', 'Petropavlovsk', 'Santarini', 'Lagos Nigeria', 'Bilboa', 'Cerdeña', 'Bemidji', 'Karratha', 'Sarasota FL', 'HKG and HKG', 'Cartegena', 'Singaporec', 'Qingdoa', 'Charleville', 'sydney', 'Pnom Penh', 'Waterford', 'Singaporw', 'Melboure', 'PBVG', 'Amsterdam Via Atlanta', 'Coruña', 'Charleston South Carolina', 'MELK', 'KIX visa HKG', 'Charlestown', 'Chennai return', 'PER via', 'Auckland and return', 'Tennesse', 'Gran canaria', 'St Helier Jersey', 'Lousiville', 'Ouarzazate', 'Treasure Cay Airport', 'sharjah', 'Brussels Zaventem', 'Sacramento CA', 'Palma De Mallorca', 'Doha and Doha', 'London Via Brussels', 'Stockhom', 'Diha', 'Medelline', 'faro', 'Kigali vua Brussels', 'Arlanta', 'Hamad', 'Vancouver return', 'Paris Ory', 'paris', 'Los Angesles', 'Doha airport', 'Palma de Majorca', 'Gotenburg', 'Boca Raton', 'Albeqerque', 'Kirksville', 'La Habana', 'San Josè', 'Glendive', 'Casabanca', 'Iqaluit', 'Paraguay', 'Réunion', 'Oujda', 'Bulgaria', 'Korowai Batu', 'Prague Václav Havel Airport', 'Janakpur', 'Santiago De Compostella', 'Kaoshung', 'NAP return', 'Kirmington', 'Barcelona BCN', 'Lahore VIA', 'Singapore Return', 'Montgomery', 'Puerta Princessa', 'cairns', 'Guanhzhou', 'Bern', 'Berne', 'Mudanjiang', 'Birmingham Al', 'Prosperpine', 'Beijing Nanyuan', 'Alexandroupoli', 'Guangzhou l', 'Halim Perdanakusuma', 'PVG return', 'Oxaca', 'Zihuatenejo', 'Jiuzhaighou', 'San Antonio Airport', 'CDG PVG', 'Elmira NY', 'Astypalea', 'Grand Rapids MI', 'Chaoshan', 'King Island', 'new Orleans', 'Singapire', 'Cinncinnati', 'New delhi', 'ortland', 'Oaxaxa', 'Cuidad Juarez', 'Panama City FL', 'Tulsa Oklahoma', 'C AN', 'Beihai', 'auckland', 'Millbury', 'Dasllas', 'Chattogram', 'Kailua', 'NewYork', 'Cuidad Juárez', 'indi', 'Yuncheng', 'Zuhai', 'Sdyney', 'Lodon', 'Uruapan', 'Greenville Spartanburg', 'Orlando International Airport', 'Sao Paulo Brazil', 'Portland Intl', 'Moruya', 'Aguas Calientes', 'Tullamarine', 'Munic', 'Venecia', 'Osorno', 'Legaspi City', 'General santos', 'Melbourne ool', 'Borakay', 'Peuto Princess', 'Ulanbaatar', 'Syndey', 'Pagadian', 'Barrenquilla', 'Bari BRI', 'Ho Chu Minh City', 'Puerto Natales', 'Salamanca', 'Carnarvon', 'mFCO', 'Caya Coco', 'PARIS', 'Quesnel', 'Coichin', 'Uralsk', 'Shangri', 'Southwest Georgia', 'Orange county', 'Villahermosa', 'Puerto Escondido Mexico', 'Héraklion', 'Nebraska', 'Qingdao vua Shanghai', 'SydneSYD y', 'Taipe', 'Gulfport MS', 'Palau', 'Tainan', 'Takamatsu', 'Caspar', 'West palm beach', 'Atanta', 'frankfurt', 'Williams lake', 'Broken Hill', 'Campbell River', 'BRUvia DOH', 'ShenZhen', 'Providencia', 'Ponta Delgata', 'Rome Ciampnio', 'Boson', 'Wrowclaw', 'Houston IAH', 'Tarbes', 'La guardia', 'Champaign', 'Wilmington NC', 'Wilmingtom', 'Daytona beach', 'McAllen TX', 'Mosinee', 'Stillwater', 'North East Arkansas', 'Warsaw Chopin', 'Charlotte Amalie', 'Chicago Ohare', 'Dallas fort Worth', 'Terceira Island', 'Brussels CRL', 'Toledo Express Airport', 'Watertown', 'Paris BVA', 'Terceria', 'Longview', 'Wilimington', 'via Tampa', 'Cape Verde', 'Ile de Terceira', 'Flint Michigan', 'Seal Beach', 'Allesund', 'Corvo', 'Santiago de Compustelo', 'Terceira Island Lajes', 'New Hampshire', 'Amarillo TX', 'Stanford', 'Jedah', 'Hattiesburg', 'Olsztyn Mazury', 'Malta and return', 'SAN vioa LAX', 'Gizan', 'Dawadmi', 'Co Springs', 'Constanța', 'Eria', 'Hunstville', 'Tricities', 'Iași', 'Doncaster Sheffield', 'Prince', 'Dallas Forth Worth', 'Scranton Wilkes', 'Dallas then San Antonio', 'Lafayette la', 'Fayetteville NC', 'Pardubice', 'Chicago ORD', 'Poprad', 'Albuqeruqe', 'Comiso', 'Orlando Melbourne', 'Kihei', 'Eluthera', 'Aizawl', 'Billings MT', 'Barcelona El Prat', 'Vidyanagar', 'Prayagraj', 'ShenYang', 'Bareilly', 'Wuyishan', 'Diani', 'Dabolim', 'Kolhapur', 'Chicag', 'Faro Portugal', 'Clearwater florida', 'Los Angeles Ca', 'Brwownsville', 'McGhee Tyson', 'Bhadrapur', 'Bologna Italy', 'Bhairahawa', 'Krakow return', 'Wichita KS', 'Nizhnekams', 'Simara', 'Syracuse NY', 'Clearwater Beach', 'Dallas Ft worth', 'Bolton', 'Lumpur', 'Bangor Maine', 'Pilanesberg', 'Samburu', 'Auston', 'Pal Springs', 'Detroit to', 'College Stationvia Dallas', 'Los Ange', 'Belize city', 'Honlulu', 'Sat Lake City', 'Kevlavik', 'Romanis', 'Roanake', 'Dade County', 'Clovis', 'Sarasota Florida', 'Philadelhia', 'Portland Maine', 'Rriga', 'Haneda Japan', 'Fuertenventura', 'Sesttle', 'Keflavik and Amsterdam', 'Louisville Kentucky', 'Camagüey', 'Beziers', 'Demver', 'Jackson via', 'Portland Jetport', 'Wilkes Barre Scranton', 'London gatwick', 'Merauke', 'Maumare', 'Vasteras', 'Ambo', 'St Barth', 'Jogyakarta', 'Kigalii', 'Saint Barthélemy', 'Cabo San Lucus', 'Cyangugu', 'Hailar', 'Buchqrest', 'Sulaimaniyah', 'Leknes', 'Lhasa', 'Berlin SFX', 'Bucarest', 'Palu', 'Tanger', 'Bail', 'El Fashir', 'Nasaau', 'Uzbekistan', 'Buon Ma Thuat', 'Phucket', 'Utopao', 'Amman QAI', 'shanghai', 'Banja Luka', 'Nay Pyi Taw', 'Chang rai', 'Marakkesh', 'kuala lumpur', 'Pertth', 'Marsh Harbor', 'RMF return', 'Gothenberg', 'Vieques', 'Tirana Rinas', 'London Cuty', 'Delhi Airport', 'Detoit', 'Melbourne Tullamarine', 'Ho Chi Minh cCty', 'North Eleuthrea', 'alicante', 'San Fran', 'ibiza', 'VIE return', 'Dakhla', 'Larnaca Cyprus', 'Pisa London Heathrow', 'Martinsburg', 'Abuja Nigeria', 'Messina', 'athens', 'Ironwood', 'Chadron', 'Jaclsonville', 'dubai', 'Jacksonville FLA', 'White plains', 'Rhode island', 'San Bernardino', 'San Bernadino', 'London heathrow', 'Jacksoville', 'South Bimini', 'London UK', 'London Heaathrow', 'Tirana London', 'London city', 'Sao Paulo Bogota', 'San Salvedore', 'Hamburg Germany', 'Łódź', 'Tampere', 'Copenaghen', 'Diyarbakir', 'Ordu', 'Çanakkale', 'Hat yai', 'Venice Treviso', 'Berlin Schönefeld', 'Aarhus', 'Sophia', 'Einhoven', 'seoul Incheon', 'Sicily', 'Kotoka', 'Ovda', 'Barcelone', 'MELBOURNE', 'Kahalue', 'Greenbay', 'Yuma AZ', 'Ronald Reagan', 'JUED', 'Fort Smith', 'Barcelona Reus', 'Little Rock AR', 'Tsushima', 'Wakkanai', 'London Heathrw', 'Olsztyn', 'Manila viaTokyo', 'Aomori', 'Gold Coast Australia', 'Dubrosnik', 'Rīga', 'Luque', 'Bolivia', 'Sarajevo Int', 'Al Madinah Al Munawwarah', 'Tirgu Mures', 'San  Francisco', 'Beauvais Paris', 'Juan Santamaría', 'Bogata', 'STX Downtown', 'Dulles Washington', 'Bolonia', 'Kotor', 'Rimini', 'Quetta', 'Fuerventura', 'San Andres Isla', 'Ibague', 'Tortola BVI', 'El salvador', 'Sorvagur', 'idaho', 'Vagar', 'Brussels South', 'Alderney', 'Stickholm', 'Singapore return', 'Dnipro', 'Amsterdam Schiphol', 'Klagenfut', 'Daytona Brach', 'Charolettsville', 'RaleighDurham', 'New Haven CT', 'Bergamo Italy', 'Tenerife South TFS', 'South Padre Island', 'London Gatwic', 'Unjung Padang', 'Ho Chi', 'Ålesund', 'Hoi An', 'Luleå', 'Buon Me Thuot', 'Birmimgham', 'Longyearbyen', 'Manila Clark', 'Angeles Manila', 'Iayseri', 'Bamiyan', 'Bradenburg', 'Instanbul', 'Izmir Adnan Menderes', 'Hi Chi Minh city', 'Tofino', 'Molde', 'melbourne', 'Hatay', 'Elazig', 'Avalone', 'Kenya Mombasa', 'Melbournes', 'Neveshir', 'Columbo', 'wellington', 'Byron Bay', 'ByronBay', 'Prosperine', 'Busselton', 'Prossipine', 'Alesund', 'Kathmandu vis Istanbul', 'Amstrdam', 'King Shaka', 'Amsterdã', 'Sierra Leone', 'Durham Tees', 'Ft Mysers', 'Lima and return', 'Atina', 'Ramsey', 'Johannesbutg', 'Mardin', 'AMS and AMS', 'Surat Thani Province', 'Sakon Nakhon', 'Cardiff to', 'Gulf Port', 'Harara', 'Cluj napoca', 'Mt Kilimanjaro', 'Turramurra', 'Longyearbyn', 'Miami ia Istanbul', 'Salam', 'İstanbu', 'Bullhead City', 'Aingapore', 'Gardemoen', 'Rome Italy', 'Iistanbul', 'Frankfurt am Main', 'Niigata', 'Tromsoe', 'Gimhae', 'Kushiro', 'Hays', 'San Francisco USA', 'Sihanouk', 'Seol', 'Barelona', 'Cancan', 'Gwangju', 'Baghdogra', 'Mrytle Beach', 'Milwaukee Wisconsin', 'Jorhat', 'Traverse city', 'Delhi IGI', 'Bardufoss', 'Philedelphia', 'Kastellorizo', 'Costa rica', 'Obregon', 'Guerrero', 'San Louis Obispo', 'Lima Peru', 'Bush', 'Washongton', 'Rasht', 'Sulaimanyah', 'Reggio Calabria', 'Puerto Villarta', 'Sah Francisco', 'Linate', 'Bangkok Suvarnabhuni', 'Carlsbad', 'New Dheli', 'Abudhabi', 'Fuerterventura', 'port of Spain', 'Cartagena Colombia', 'KIgali', 'Cape Cod', 'bodrum', 'Santiago Dominican Republic', 'JFK and return', 'Hyannis', 'Llibreville', 'Pheonix AZ', 'Santiago DR', 'Provinciales', 'Port Au Prince', 'Boaton', 'Fort Laudardale', 'D0ha', 'Reagan National', 'Kilimanjaro Airport', 'Ulaanbaator', 'Duvrovnik', 'Sioux falls', 'Boavista', 'Istanbul return', 'New Yorl', 'Ft Lauderdale Va Jacksonville', 'Richmon', 'San Ramon', 'Mayaguez', 'Sapporo Chitose', 'Trivandram', 'via Dallas', 'salvador', 'Sao Vincente', 'Lison', 'Isle of man', 'Lisnon', 'Krong Siem Reap', 'Lsbon', 'Ponta delgada', 'Vientane', 'Donegal', 'Wick', 'Barcelona vis Lisbon', 'Carlisle', 'Breslau', 'Nakorn Si Thamarat', 'Dundee', 'Atambua', 'Kuala Luumpur', 'lisbon', 'Vientiane Wattay International', 'Dharavandhoo', 'Sao Miguel', 'Ngurah rai', 'Chang Rai', 'Khonkaen', 'Palangkarya', 'Khon kaen', 'Ubonratchathani', 'Khooddoo Island', 'Udonthani', 'Ponta Degada', 'Phenom Penh', 'KUL and KUL', 'Kuala Lumpur International Airport', 'Phrae', 'lilongwe', 'Saint John New Foundland', 'Loei', 'Luang prabang', 'Winnepeg', 'Tampico', 'Kerkyra', 'Malabo', 'LIS return', 'Madera', 'Geneba', 'Munster', 'YYZ viaFRA', 'Barcelona return from Venice', 'WRO viaMUC', 'Forteleza', 'via Munich', 'Senai', 'Chumphon', 'Chisnau', 'Vilnus', 'Langkawi Island', 'islamabad', 'Wroclwa', 'Kuala Lumpuir', 'Had Yai', 'Bangkok return', 'Myanmar', 'Buenos', 'Kuching International', 'kota Kinabalu', 'Frankurt', 'Sal Island', 'Nurnburg', 'Aickland', 'Kooddoo', 'Densepar', 'Khon Kean', 'Brusells', 'Dangriga', 'Bangkok DMO', 'Belem', 'Arica', 'Drake Bay', 'Sau Paulo', 'Drake bay', 'Zanderij', 'Whitsunday', 'Santa Teresa', 'Sao Pulo', 'Bequia', 'Drake Airstrip', 'San José del cabo', 'Good Coast', 'Hamilton BC', 'San André', 'Florianópolis', 'Eskisehir', 'Palma Sur', 'Milano MXP', 'Yuzhny', 'Mae Sot District', 'Tunis Carthage', 'Nakhorn Si Thammarat', 'Xiengkhouang', 'Puerto', 'Oudomxay', 'Mazatlna', 'Puerto Vallarta Mexico', 'Ariquipa', 'Baden Baden', 'Drakes Bay', 'Uruguay', 'Cuiaba', 'Aracaju', 'Tacna', 'Zaporizhzhia', 'Rio de GIG', 'Dalman', 'Sharm', 'Marigot', 'Sao Tome Island', 'Dhaalu', 'Cape Tow', 'Kahsioung', 'Bangladesh', 'Tarakan', 'Tumbes', 'Palma Nova', 'Bangka', 'Abbotsford B', 'Maderia', 'Goiania', 'San Andres Island', 'Ceunca', 'Tamboolaka', 'Temuco', 'Florianoplois', 'Foz de Iguacu', 'Santa Genoveva', 'Abbortsford', 'Cancun return', 'Banff', 'Isla de Pascua', 'Vancouver British Columbia', 'Algarve', 'berlin', 'Kwajalein', 'Dussedorf', 'Jodphur', 'Salt Lake CIty', 'Dusserldorf', 'Puerta Plata', 'Wellcamp', 'OGG Maui', 'Subarnabhumi', 'San Francisco SFO', 'BKK return', 'Pakyong', 'Dillingham', 'Hodaidah', 'Hiong Kong', 'Welington', 'Palma de Malorca', 'Jaiput', 'Aguadilla PR', 'Newark return', 'Cccra', 'West Palm Beach FL', 'Abu Dabi', 'Sydney Abu Dhabi', 'Diblin', 'Cairo Abu Dhabi', 'Edinbugh', 'AIUH', 'Melbourne return', 'Bengalurur', 'TXL vua AUH', 'Hong Kong return', 'Syyney', 'Delbi', 'ft Lauderdale', 'To Winnipeg', 'Québec City', 'Québec city', 'Halifax Stanfield Airport', 'Toronto City Airport', 'Abatsford', 'Absford', 'Qausim', 'Luis Muñoz Marín', 'Shimkent', 'Taraz', 'Kuala Kumpur', 'Stockholm Bromma', 'San antonio', 'SFO return', 'Jyväskylä', 'Lapland', 'Guwhati', 'Newman', 'London Healthrow', 'Helskini', 'Tornio', 'Palmerola', 'Seletar Singapore', 'Gunnison', 'Lalibela', 'SGN return', 'SGGN', 'Burundi', 'Sharm el Skeikh', 'Port Lincoln', 'Nha Trang Cam Ranh', 'Philadelphia and return', 'cairo', 'Ho Chi Minh Vity', 'Ho chi Minh city', 'Phnom Pemh', 'HCM City', 'Florida Beaches', 'Panama City beach', 'Antananaviro', 'Ljubijana', 'Hainoi', 'Brussels National', 'Norfolk Virgina', 'Kathmanda', 'Berlin Schonefeld', 'Santa Cruz de la Palma', 'Phu Quok', 'Benghazi', 'Kano', 'San Jose Airport', 'Colombus', 'Cairo via', 'Vinh', 'Tel Aviv Ben', 'Longreach', 'Tel Aviv BGN', 'Shillong', 'Philadelphia then Buffalo', 'Kuala Lumper', 'SHanghai', 'Nw Oreans', 'Manzini', 'Goma', 'Uganda', 'Shiridi', 'Addis Abeba', 'Juba Via Addis Ababa', 'Jerusalem', 'Kiliminjaro', 'VeraCruz', 'Kangra', 'MILAN', 'Shiradi', 'Sapporo Shin Chitose', 'TLVB', 'Lord Howe Island', 'CXR Nha Trang', 'Brisban', 'Koeln Hauptbahnhof', 'Aucklqnd', 'tashkent', 'Birmingham UK', 'Begaluru', 'Port Louis', 'Hydrabad', 'vancouver', 'Arla', 'Iran', 'Meridia', 'Lihua', 'Kaui', 'Molokai', 'HNL and return', 'tel Aviv', 'Venice VCE', 'Saratoga', 'Eau Claire', 'Sau Paolo', 'Westminster', 'Dalanzadgad', 'Dallas FT Worth', 'Sheik', 'Dominican republic', 'Masrid', 'Medellin Colombia', 'Yichan', 'Puerto Plate', 'Mammoth', 'Stansted Airport', 'Istanbul saw', 'FORT WORTH', 'Chenai', 'Kempegowda', 'Presque Ile', 'Ft  Lauderdale', 'Peking', 'L Guardia', 'North Platte', 'Sharja', 'Ras Al Khaimah', 'Platsburg', 'Palm Bay', 'Seattle vi Keflavik', 'Indianapolisvia Denver', 'Muskat', 'Rekyjavik', 'zanzibar', 'Reykjavík Keflavik', 'Skyros', 'Willemstad', 'San Jose Mexico', 'el Salvador', 'Ft Lauderdale Florida', 'South Caicos', 'kefalonia', 'kuwait', 'Rock Springs', 'Gasglow', 'Fr Lauderdale', 'Ann Arbor', 'Muskegon', 'Baltimore BWI', 'Kayesari', 'Savsnnah', 'Detroit Metro', 'Sabiha Gokcen', 'Fort Lauderdale return', 'oporto', 'Atlantic City NJ', 'Qui Nhon', 'Dong Tac Airport', 'BOM vva MCT', 'Minneapollis', 'Newwark', 'Fresnovia Denver', 'Reykiavik', 'Fort Lauderdale Fl', 'Fort Lauderdale Florida', 'Riviera Maya', 'Hudson Valley', 'DetroitI', 'San Fransisco Ca', 'Ottawa Canada', 'Denvr', 'Las Vegas Nevada', 'Norfolk Virginia', 'La Guardia New York', 'Nwark', 'Eagle', 'Indiapolis', 'Pensicola', 'Hartford Connecticut', 'Baden', 'Asghabat', 'Cheboksary', 'Baja', 'Bay City', 'Toronto ON', 'Ashagat', 'Lanseri Intl Airport', 'Cape Toen', 'Destin Florida', 'Orly Paris', 'Ile de la Réunion', 'Anderson', 'Saint Denis Reunion', 'Middletown', 'Detroit Michigan', 'Punta Cana Dominican Republic', 'Grad Rapids', 'Claremont', 'Palangkaraya', 'Clarke', 'Jakatra', 'Reagan Washington', 'Baton rouge', 'Waynesville', 'Calbayog', 'Yogayakrta', 'Tanjung Karang', 'Sinagpore', 'Pangkal Pinang', 'Tek Aviv', 'Salina', 'Neveda', 'Baltimore Maryland', 'Sumbawa', 'Busunaga', 'Laoag International Airport', 'Punt Cana', 'Boston Massachusetts', 'New York Islip', 'Denver Co', 'Ls Vegas', 'NEw York', 'Boulder', 'Centennial', 'Harrisburgh', 'Nabire', 'Colorado springs', 'Philadelpia', 'Lancaster', 'Fort myers', 'Iloilo City', 'Rampa', 'Ho Ch Minh City', 'Youngstown', 'Accra Ghana', 'Great falls', 'Chalrestown', 'Lansing MI', 'Hibbing', 'San Josew', 'Orange Country', 'McCarren', 'Orlando to Wilkes', 'Pocatello', 'New JFK', 'Muscle Shoals Alabama', 'Ferrand', 'Norfolf', 'Scatsta', 'Bismark', 'Santiago de Querétaro', 'Dothan', 'Atlanty', 'Santiago De Cuba', 'Baracoa', 'Habana', 'São Paulo GRU', 'Providence to Dallas Fort', 'Great Fal s', 'Medford oregon', 'United states', 'Boston Logan International Airport', 'baltimore', 'Amsterdqm', 'Melbourne Orlando', 'West Chester County', 'Boston to Newark', 'Providence Rhode island', 'Souix Falls SD', 'Kansa City', 'Tonawanda', 'Cnania', 'Jordon', 'London Gatwich', 'Singapure', 'Perth WA', 'KUL to AUH and AUH', 'Crete Chania', 'Taipei Taoyuan Airport', 'Mwanza', 'Sanaa', 'Samoa', 'Vantaa', 'Rovanimie', 'Dueseldorf', 'Vienna to Kemi', 'Subang Kuala Lumpur', 'Kuala Lumpur Subang', 'Fort Lauderale', 'Deerlake', 'Dhabi', 'Bordeaux Billi', 'Berlin SXF', 'Berlín', 'Minich', 'LGEW', 'Machester', 'Hurghurda', 'Sharm El Sheik', 'Kempegowda Bengaluru', 'Adélaïde', 'Johannesbug', 'New Dehli', 'KUL to DXB', 'Bahir Dar', 'Awasa', 'Diass', 'Enugu', 'EWR to', 'Århus', 'Münster', 'Bhairawa', 'Garoua', 'Rutland VT', 'Suriname', 'St Marteen', 'Sydney to Tel', 'Seoul Incheaon', 'MAN to SYD', 'Little Cayman', 'Bocaray', 'Zamboanga', 'Legazpit', 'Dipolog', 'Estonia', 'Ninoy Aquino International', 'Birminghan', 'Alamosa', 'Charleston WV', 'Richmond VA', 'Canton Akron', 'London Heatrow', 'Sydney via Singapore', 'Amman Jordan', 'doha to londonDoha', 'Cephalonia', 'Bucharest to London Heathrow', 'Edimbourgh', 'London LGW', 'Fuereventura', 'Los Angeles to London to Paris', 'Fort Saint John', 'Antalaya', 'Zhanjiang', 'Dunhuang', 'Hongqiao', 'Ordos', 'Gunungsitoli', 'Yogyakarta Kulon Progo', 'Port Elizabth', 'Portlamd', 'FTRA', 'New York jfk', 'Paulo', 'Panamá city', 'Toronto to Lima', 'Gazipaza', 'CZ344', 'Heifei', 'Koror', 'Diqing', 'Linyi', 'Beijing Daxing', 'GUANG ZHOU', 'Shijiazhuang', 'Jinghong', 'Los Angela', 'Chistchurch', 'Melbourne via Guangzhou', 'ning', 'Meixian', 'Ürümqi', 'Zhegzhou', 'Urumchi', 'ZhanJiang', 'West Kelowna', 'Qassim', 'Guarulhos to Gothenburg', 'Torp Sandefjord', 'Seoul GMP', 'JeJu Island', 'Frankfurth', 'Buenos AIres', 'Santiago de Chile to Easter Island and back and from Santiago', 'Luangprabang', 'Luangpraban', 'Navegantes', 'Foz de Iguazu', 'Buenos Aries', 'Isla San Andres', 'El Loa', 'Congonhas', 'Belgium', 'Iguassu Falls', 'Joahnnesburg', 'Cooloongatta', 'Melboune', 'Densapar', 'Melbourbe', 'Hobart to Melbourne then', 'Jieyang', 'Ho Chi Mình City', 'Kansai Osaka', 'Singapaore', 'Oita', 'Quang Nam', 'Phu Bai', 'Johanneburg', 'Tanzania', 'Mamoudzou', 'Concepción', 'Galapagos', 'Buenos aires', 'Augsburg', 'Singaore', 'Kerman', 'Kuala Lumpa', 'Bintulu', 'Melaka', 'Johar Bahru', 'Taichung', 'Nyaung U', 'Loikaw', 'Pangkalan bun', 'Belitung', 'Bahia Drake', 'Tamarindo', 'Puerto Jimenez', 'Ubon Racthatani', 'Sakhon Nakhon', 'Cologne Central Station', 'Osnabrück', 'Sandefjord Torp', 'Milan linate', 'Fort De France', 'Jakatrta', 'Nias', 'City of Derry', 'Radom', 'New Yook', 'Rzeszów', 'Muami', 'Dussseldorf', 'Szczekin', 'Szeczin', 'Kishinev', 'Lübeck', 'Luebeck', 'Johannesburg to Dallas', 'Bucharest to Nur', 'bangkok', 'Turkistan', 'Worthington', 'Washington DC Regan', 'New York LaGaurdia', 'Matsumoto', 'Hatta', 'Ball', 'Tanjung Pandan', 'Timika', 'Tanjung Pinang', 'Medan Kuala Namu', 'Tanjung', 'Chandigargh', 'Kolkatta', 'Milwauke', 'Seattle to Saint', 'Yichang', 'Sioux Fall', 'Bosnia', 'Velana', 'From King Shaka', 'Port elizabeth', 'Minneapolis to Dallas Fort', 'CLeveland', 'Sky Harbor', 'Islip NY Long Island', 'Candun', 'El Palso', 'Trenton Mercer', 'Ontario California', 'New Orlenas', 'Phoenix Az', 'Phildaelphia', 'El Paso Texas', 'Renoe', 'Beijing to Brussels and Berlin', 'Salt Lake City to Raleigh', 'Eilat', 'Akita', 'Wabush', 'East Midland', 'Aguilar', 'Ashevile', 'Washing', 'Largo', 'Reagan National Airport', 'Aquadilla', 'Orlando Fl', 'Last Vegas', 'Bradley Airport', 'La Guardai', 'Santiago De Los Caballeros', 'Kingston Jamaica', 'Tan Son Nhat', 'Oaxaca City', 'Oalkland', 'San Franciso', 'kuala Lumpur', 'Chisinau KIV', 'TImisoara', 'Brive', 'Madris', 'Santiago de Compostella', 'Pamplona', 'Toronto to Iceland', 'Klefavik', 'YYZ to KEF', 'LGW to SEA', 'Curacou', 'Grand Turk', 'Cockburn Town', 'Guárdala', 'Merced', 'Atlanta to Dallas Fort', 'Koh Phi Phi', 'Wapanamanda', 'Blenheim', 'Nukualofa', 'Timaru', 'Gisborne', 'Hastings', 'Raratonga', 'alofa', 'Pendleton', 'Gurney', 'Dawson', 'Bocas del toro', 'Panama Albrook', 'Kraljevo', 'Beograd', 'Moskow', 'gatwick', 'Toliara', 'Sainte Marie', 'Pointe à Pitre', 'Egilsstadir', 'Mumbai Parun', 'SanFransico', 'Thiruvananthapu', 'Kalaburagi', 'Dimapur', 'Sagwon', 'Pantnagar', 'Dehi', 'Bikaner', 'Subic', 'Tuléar', 'Antsiranana', 'Dar És Salaam', 'Kilimangiaro', 'Zanzabar', 'Johennesburg', 'Maningrida', 'Echo', 'Gove', 'Toowoomba', 'Tablas', 'Bagdora', 'Ft Myers Fl', 'Pasco Washington', 'Anchorage to Dallas Fort', 'Kahului Maui', 'Mammoth Lakes', 'Montenegro', 'Milan LIN', 'Milano Linate', 'Latvia', 'Mtwara', 'Montral', 'Peurto Plata', 'Labuan Bojo', 'Kota kinabalu', 'Puerto Pricesa', 'Luang Pabrang', 'Kuala Lumput', 'Shantou', 'Cengkareng', 'jakarta', 'Tulihal', 'BENGALURU', 'Cagayan', 'Cagayan de oro', 'Perth to U', 'Ljubliana', 'Firenze', 'París CDG', 'Culiacán Mexico', 'Torreón', 'Valencia to Puerto Vallarta', 'pitre', 'Pietre', 'Jouf', 'Ras Al Khaima', 'Dubai to Ust', 'Moscow to Nur', 'St Petersburg to Ust', 'Peurto Escondido', 'Juárez', 'La Réunion', 'Mexicalli', 'Athen', 'Tbislis', 'United Kingdom', 'Samos', 'Dubin', 'Exupéry', 'Barnaul', 'Perm', 'Guanzhou', 'Ekaterinburg', 'Rosario', 'Ixtapa Zihuatanejo', 'Denis de La Reunion', 'Denis', 'Antanarivo', 'Honululu', 'Munich to Toronto', 'Reyjkjavik', 'Saint Kitts', 'LAS Vegas', 'Hongkong', 'Johannesburgh', 'Jilin', 'Geneva to Tokyo', 'Bangkok to Washington', 'BEIJING', 'Florenze', 'Bogota Colombia', 'Sandspit', 'Nosy Be', 'Hurgada', 'Coco', 'Cairo Egypt', 'Noranda', 'Canadian Rockies', 'Cyvr', 'Fort St John', 'Nova Scotia', 'Sao Pauo', 'John', 'Thunder Bag', 'Johns', 'FrankFurt', 'Nassau Bahamas', 'Amstedam', 'Cagliari International Airport', 'Ohare', 'Philedephia', 'Detroit Metropolitan', 'Pittsburght', 'Kansas City to Dallas', 'Pamama City', 'Tokyo Narita International', 'Pensacola Florida', 'Piedmont Triad', 'Cozmuel', 'Mount Pleasant', 'Jacksonhole', 'Arkadelphia', 'Palm Springs CA', 'Lihui', 'Northwest Ark', 'Omaha to Dallas Fort', 'Madison WI', 'Cape Girardeau', 'Seattle to Wilkes', 'Valparaiso', 'Topeka', 'Cuzamel', 'Dalls Ft Worth', 'Saint George', 'Melbourne Fl', 'Corpus Christie', 'El Paso to Phoenix', 'Baltimore to Philadelphia', 'Chartlotte', 'San Angelo Regional', 'Dukuth', 'New haven', 'New York USA', 'Guatemla', 'Rio GIG', 'Ft Lauderdale to Cartagena', 'Baltra island', 'Valledupar', 'San Jose de Costa Rica', 'Rioacha', 'JFKL', 'Nasssu', 'Can Tho', 'Vinh city', 'Kula Lumpur', 'Lisbon to Cluj', 'Mikonos', 'Rostock', 'Williamsburg', 'Manhattan KS', 'burbank', 'Toyama', 'Iwakuni', 'Itami', 'Tokyo ta', 'Ho Chi Minh to', 'Sapporo New Chitose', 'Diyarbakır', 'Maiduguri', 'Incheon Seoul', 'Brazzaville', 'Venna', 'Milan Italy', 'Lugano', 'Delaware', 'Lauderdale FL', 'columbia', 'Springfield MO', 'Petersburg Clearwater', 'Pasco WA', 'Austin Bergstrom', 'AZA to', 'Regan', 'Punta Gorda FL', 'Clarksburg', 'Clearwater St Pete FL', 'Greater Rochester', 'Tri City', 'ft wayne indiana', 'Concord Regional', 'Lehigh vAlley', 'Santa Maria CA', 'Sandford Orlando', 'Puerta Gorda', 'Knox', 'Puta Gorda', 'El paso', 'McAllen Airport', 'Kalispel', 'West Des Moines', 'Phoneix', 'Cincinnati and Lexington', 'Nashville tn', 'Newawk', 'Phoenix to Ohio', 'St Cloud', 'Bishop', 'America', 'Baldwinsville', 'Springfield Mo', 'Bilaspur', 'Houston to Dallas to', 'Punta Cane', 'Newport', 'Philladelphia', 'Cape Coral', 'Cherry Capital', 'Pensacola to Dallas Fort', 'New Orleans to Dallas Fort', 'TRI Cities', 'Loui', 'Boston to Dallas Fort', 'New Oeans', 'Dallas Fort  Worth', 'Alaksa', 'Worcester MA', 'Fargo to New York', 'Dubuque', 'Chattanooga TN', 'Dalls', 'USVI', 'Koana', 'Knoxvillle', 'Grand Island Nebraska', 'Liberia Costa Rica', 'Clarksville', 'Detroit to Dallas Fort', 'Shreveport LA', 'Boise ID', 'Norfolk VA', 'Tyler Texas', 'Sint Maartin', 'Míami', 'Tuson', 'Sacramento to Dallas Fort', 'Bethlehem', 'Fort Walton Beach Florida', 'Buffalo NY', 'Honolulu to Dallas Fort', 'Miaimi', 'Yuma to', 'Marteen', 'Bangkok Don Meuang', 'Arvidsjaur', 'Tri State Milton', 'Yuzhno Sakhalinsk', 'Grozny', 'Moscow svo', 'NurSultan', 'Nalchik', 'Magnotogorsk', 'Nizhny Novgorod', 'Yerewan', 'Tel Avia', 'MBS Airport', 'Mscow', 'Ulan Bator', 'Lemnos', 'Kyev', 'Groningen', 'Katiwice', 'Rejkavik', 'Dblin', 'Guiyang to Kuala', 'Bagan', 'Seuol', 'Moheli', 'Ljubjana', 'Mitilini', 'Larnaca to', 'Thesssaloniki', 'Kephalonia', 'San Juan Domingo Faustino', 'Tucuman', 'Barliloche', 'Sohag', 'Saint Dénis', 'Sylt', 'Joihannesburg', 'Ougadaougou', 'Daegu', 'Pearson', 'via Toronto', 'Edminton', 'Chicago Illinois', 'Cranbrook', 'Winipeg', 'Atlata', 'Cyul', 'Prince Rupert', 'Deer lake', 'Tangier Morocco', 'Rio Grande', 'Assiut', 'Aeroparque Buenos Aires', 'El Calfate', 'San José Cabo', 'Chiapas Tapachula', 'Mexico CIty', 'Matzalan', 'Tuxtla Guitierrez', 'Monterry', 'San Luis Potosí', 'Melville Hall', 'Nador', 'Kiev Zhuliany', 'Sheffield', 'Kosiche', 'Haiphong', 'Camn Ranh', 'Tân sơn Nhat', 'Hai Phong', 'Ho Chi Minh Cty', 'Cat Bi', 'Quinhon', 'Dallas Love', 'Washington IAD', 'Melpourne', 'Brsibane', 'Christmas Island', 'Los Angelas', 'Coollangatta', 'Cloncurry', 'Boolgeeda', 'kochi', 'Chu Lai', 'SGN Ho Chi Minh City', 'Tijuanana', 'Fergana', 'San Jose California', 'Omaha NE', 'New York Laguardia', 'San Franscico', 'Oklahoma City to Houston', 'Beijng', 'Zhukovsky', 'St Louis to Charlotte', 'Usinsk', 'Riohacha', 'Tijuanna', 'Kjevik', 'rome', 'Florence to Barcelona and Barcelona', 'Sogndal', 'Sint Marten', 'Kota Tambolaka', 'Ampana', 'Venice Marco Polo Airport', 'Thesalonika', 'Targu Mures', 'Romania', 'Catania Fontanarossa', 'TeAviv', 'Tîrgu Mures', 'Abu Dubai', 'Oslo Torp', 'Cluj Romania', 'Birmingham to Tel', 'Milan to Nur', 'Spain to Paris and Lyon to Rome', 'Gatwock', 'Colima', 'Leon Guanajuato', 'Los cabos', 'Puerto Vallerta', 'Querétaro', 'Figari Corse du sud', 'Lyon Saint Exupery', 'Lyon LYS', 'Turín', 'Alger', 'Heraqlion', 'Bercelona', 'Lisbonne', 'Paris Charles', 'Ámsterdam', 'San Sebastion', 'Palma di Mallorca', 'prague', 'Bathurst', 'Ottawa return', 'Sault ste', 'Thiruchillapali', 'BKI and return', 'Kolkota', 'JAIPUR', 'IloIlo', 'Caticlan Boracay', 'Malina', 'Puerto Prinsesa', 'Moscow Sheremetyevo', 'Wallis Island', 'Groote Eylandt', 'North Goa', 'Mopa', 'Bangluru', 'Kodiak', 'Nome', 'Surakarta', 'Surathani', 'Sitka', 'Siem Riep', 'Autataki', 'Lubljana', 'Podgotica', 'Zakythos', 'Zanizibar', 'Dominca', 'Momtreal', 'Santa clara', 'Holguin International', 'Dublin Ireland', 'Riveria Maya', 'Labuon Bajo', 'Chang Mai', 'Kulala Lumpur', 'Kelantan', 'Tagbilara', 'Seattle WA', 'Lihue Kauai', 'Inuvik', 'Charleston SC', 'MidAmerica St', 'Sanford Airport', 'Evansville IN', 'Punt Gorda', 'Saint Pete', 'Ashiville', 'Destin fortwalton', 'Clearwater St', 'New Cumberland', 'Myrtle', 'Saint Petersburg FL', 'Stewart International', 'Clinton National', 'Eugeene', 'Rockford IL', 'Stickton', 'Central Nebraska', 'Covington', 'Rochester Albany', 'Orlano', 'Blue Grass', 'Wenatchee', 'Destin Fort Walton Beach', 'San Jose CA', 'Paris San Francisco', 'Yakima', 'Matzitlan', 'Bozemon', 'Sao Paulo return', 'Albania', 'Cincinnatti', 'Phoenix Mesa Gateway', 'st Petersburg', 'Tricites', 'Portsmouth NH', 'Wichita Kansas', 'Punta gorda', 'Plattsburg', 'Mesa Phoenix', 'Scott', 'Bocas del Toro Province', 'Grand Prarie', 'Mallaga', 'Salvador de Bahía', 'Salvador Bahia', 'Bostobn', 'Santiago de Cile', 'Lisbon Via Paris', 'New York visa Paris', 'Johannesburgvia Paris', 'NDjamena', 'RBGA', 'Paris CDG return', 'Maniitsoq', 'Ilulissat', 'Akureyri', 'Andaman', 'Vanvouver', 'Melburne', 'Minorca', 'Fankfurt', 'Rouyn', 'Grande Praire', 'Bagotville', 'Gander', 'Sarnia', 'London Canada', 'Toronto Canada', 'Monreal', 'North Bay', 'Datong', 'Beinjing', 'Frankfurt vua Beijing', 'FRANKFURT', 'Thiruvanathapuram', 'Belagaum', 'Fort Dauphin', 'malta', 'Malta International', 'Malta return', 'Rodrigues', 'Moldova', 'Jahannesburg', 'GIsborne', 'SanFrancisco', 'Nuku', 'Taupo', 'Rartonga', 'Popondetta', 'Wapenamanda', 'Rabaul', 'HNoniara', 'Madang', 'Sambava', 'Cjicagpo', 'Majunga', 'Thiruvananthapuran', 'Indire', 'Bhubneshwar', 'Kulu', 'Mumbai return', 'Imphal', 'Varnashi', 'Siquijor', 'Puerto Gallera', 'Siquijor Island', 'Cuyo', 'Sipalay', 'San Vicente', 'Mahajanga', 'Palm springs', 'Dagestan', 'Moscow DME', 'Stanstred', 'Bucharest Otopeni', 'Ancona Falconara', 'Bati', 'Petropavlovsk Kamchatsky', 'Vladivostock', 'Rochester New York', 'to Ulan', 'Nairobi Wilson', 'Afghanistan', 'Tericia', 'Kano Mallam', 'Wedj', 'Damman', 'SINGAPORE', 'Memmingnem', 'Sharm Elsheikh', 'Lodz', 'Edinbrough', 'Frankfurt Hanh', 'Ciampino Rome', 'Hungary', 'Gran Carnia', 'Bezier', 'Lappeenranta', 'Ciampino', 'Jasionka', 'Ponta DelGada', 'Leeds bradford', 'Dublin to Cluj', 'London Stamsted', 'London Stanstead', 'Palma Majorca', 'Ho Chi minh', 'Don Mueang Bangkok', 'Kaoshiung', 'Kurumoch', 'Arkhangelsk', 'Kohala', 'Albuquerque NM', 'Albuquerqe', 'Rhodes Island', 'Savannah GA', 'St Lo8uis', 'Spoken', 'san Antonio', 'Juan Santamaria to Baltimore', 'Love Field Dallas Texas', 'La Guardian', 'San Jose de Cabo', 'Columbis', 'Kansas to', 'Berrien Springs', 'Shuttlesworth', 'St Marys', 'Sydney to Singapore then', 'Siteia', 'Downtown', 'Shubuling', 'Fort Laderdale', 'Charleson', 'FT Lauderdale', 'Cities', 'North Eleutera', 'Bimimi', 'lauderdale', 'Singapoe', 'London Heahrow', 'Valdivia', 'Ayacucho', 'Naxos Island', 'Casablana', 'Mannheim', 'Köln Bonn', 'Moscow to Sharm el', 'Kaysari', 'Kharkiv', 'Barcelona to Sharm el', 'Barcalona', 'Qatar', 'King Salmon', 'Dutch Harbor', 'Changi', 'Bicol', 'Loag', 'Del Carme Siago', 'Phnomh Pen', 'Naga', 'Albay', 'Angeles', 'LAX to Manila to Davao', 'reykjavik', 'Sharm el sheikh', 'Amami', 'Reyjavik', 'Legaspi Port', 'Parigi', 'Lodon Gatwick', 'Cooenhagen', 'JFK Airport', 'Buenoa Aires', 'Gothenburg Landvetter', 'Dubrovnic', 'Edinburgh EDI', 'Saidpur', 'Jashore', 'Kithira', 'Riyad', 'mumbai', 'Yokota', 'Ramstein', 'Makhachkala', 'Pnomh Penh', 'Stewart Intl', 'Boston Logan to Iceland', 'Midura', 'Mahé', 'Jarkata', 'Brisibane', 'Nigeria', 'Kozikhode', 'Zvartnots', 'London Heatrhow', 'manchester', 'cape town', 'Jinnah Int', 'Dubai DWC', 'KUala Lumpur', 'Coxs Bazar', 'Dubbo', 'Mount Gambier', 'Monkey Mia', 'Mount Isa', 'Whyalla', 'Moranbah', 'Reykjvik', 'Newfoundland', 'Toronto Billy Bishop', 'Tremblant', 'YOW to BOS', 'Hervey Bay', 'Kingscote', 'Paraburdoo', 'Hobarat', 'Sydeny', 'Brisbane to Denpasar', 'Wagga', 'Coolongatta', 'Melourne', 'DRWQ', 'Horn Island', 'Port hedland', 'Burbank Airport', 'Chicago midway', 'FT Myers', 'Antaya', 'Seattle to Istanbul', 'Kathmandu to Dallas Fort', 'Teheran', 'Dublin to Nur', 'Kiyv', 'Huston', 'ISTANBUL to LONDONIstanbul', 'Vnukovo to Berlin', 'Keyseri', 'Kathmandu to Cluj', 'Nakhchivan', 'Kilaminjaro', 'Istanbul Atatürk', 'Lisbon to Sharm el', 'Giresun', 'New Yok', 'Constanta', 'Boston to Tel', 'Treng', 'Khon Kan', 'Muang Khon Kaen', 'Plovdiv', 'Manchestee', 'Standsted', 'from EMA', 'Whitsunday Coast', 'Airlie Beach', 'Chambery', 'The Hague', 'Tower Hill', 'Boa Vista', 'Antalia', 'Lefkosa ECN', 'Biskek', 'Leon Bajio', 'Butte', 'Berkeley', 'Portland to Denver', 'Fort Meyer', 'West Fargo', 'Soux city', 'Charlston', 'Kearney', 'Sun Valley', 'Washington dc', 'Friedman', 'Cancun to', 'Palm Spring', 'Kahluhi', 'Amsterdam Schipol', 'Queretero', 'Kuna', 'Wilkes Berre', 'Gillette', 'Wiliston', 'Raligh Durham', 'Harrisburg to Chicago to San Francisco', 'Thomas USVI', 'istambul', 'Ashgabad', 'Ashkabat', 'Lexington KY', 'Cincinnati OH', 'Decatur', 'Sab Francisco', 'Presque isle', 'Baytown', 'Idaho Falls to Denver to Denver', 'Lehigh Valley', 'Quad Cities', 'Tuscan', 'Casper Wyoming', 'Redwood Coast', 'Lehigh', 'denpasar', 'LIsbon', 'Salt Lake City to', 'Winchester', 'San juan', 'Salt Lake  City', 'Sacrament', 'Oakland CA', 'Indianpolis', 'Bogotá Colombia', 'Philadelphoa', 'News Orleans', 'Detriot', 'George Bush', 'St Maarten to Ft Lauderdale on', 'Christiansted', 'Cancun Mexico', 'Loveland', 'Akron OH', 'BWI Marshal', 'Ford Lauderdale', 'SJO Costa Rica', 'Montego Bay Jamaica', 'Detroit DTW', 'Jamica', 'Mismi', 'Memphis TN', 'Torrance', 'Ayodya', 'Portblair', 'Belagavi', 'Calcutta', 'Varansi', 'Ras al Khaimah', 'Nashik', 'Guwahat', 'Vishakapatnam', 'Dharamsala', 'Trivendrum', 'Gauhati', 'Tuticorin', 'Massachusetts', 'Sandiego', 'Red Deer', 'Veradero', 'London Ont', 'Halifax Stanfield', 'Toronro', 'Edmonton Alberta', 'Sangster International', 'Hamiton', 'abbotsford', 'Abbostsford', 'Nueva Loja', 'Lago Agrio', 'Guayaguil', 'Brasil', 'Marrekesh', 'Lisbin', 'Caro', 'Dusseldorg', 'Vardero', 'Zhuahi', 'Cayo Coco Cuba', 'Loss Angeles', 'Denver to Houston', 'Latrobe PA', 'CLE to DFW and CLE', 'Langur', 'Borong', 'Silangit', 'Wilmington North Carolina', 'Pensylvainia', 'Macon', 'Sonoma CA', 'T F Green', 'Laughlin', 'Cayo coco', 'Puerto Vaĺlarta', 'Dartmouth', 'Rio Hata', 'Tokio']\n"
     ]
    }
   ],
   "source": [
    "all_loc=pd.concat([df['departure'], df['arrival']])\n",
    "value_count=all_loc.value_counts()\n",
    "filtered_names=value_count[value_count.index.str.len()>3].index.tolist()\n",
    "print(filtered_names)"
   ],
   "metadata": {
    "collapsed": false,
    "ExecuteTime": {
     "end_time": "2024-05-01T16:01:58.678815Z",
     "start_time": "2024-05-01T16:01:58.621448Z"
    }
   },
   "id": "d3e37fbbd68e6704",
   "execution_count": 21
  },
  {
   "cell_type": "code",
   "outputs": [
    {
     "data": {
      "text/plain": "departure    36545\narrival      36545\ndtype: int64"
     },
     "execution_count": 25,
     "metadata": {},
     "output_type": "execute_result"
    }
   ],
   "source": [
    "df[['departure','arrival']].isna().sum()"
   ],
   "metadata": {
    "collapsed": false,
    "ExecuteTime": {
     "end_time": "2024-05-01T16:11:08.318435Z",
     "start_time": "2024-05-01T16:11:08.274315Z"
    }
   },
   "id": "fe7b5a2b9dc78bb3",
   "execution_count": 25
  },
  {
   "cell_type": "code",
   "outputs": [
    {
     "data": {
      "text/plain": "(131906, 2)"
     },
     "execution_count": 26,
     "metadata": {},
     "output_type": "execute_result"
    }
   ],
   "source": [
    "df[['departure','arrival']].shape"
   ],
   "metadata": {
    "collapsed": false,
    "ExecuteTime": {
     "end_time": "2024-05-01T16:11:21.682845Z",
     "start_time": "2024-05-01T16:11:21.655533Z"
    }
   },
   "id": "6997fd4e1f3b0dea",
   "execution_count": 26
  },
  {
   "cell_type": "code",
   "outputs": [
    {
     "data": {
      "text/plain": "       standardized_arrival standardized_departure\n0                    Moheli                 Moroni\n1                   Anjouan                 Moroni\n2                  Dzaoudzi                Anjouan\n3                  Pristina              Frankfurt\n4                 Amsterdam                  Sofia\n...                     ...                    ...\n131901                Tokyo                Bangkok\n131902                Tokyo              Singapore\n131903                Tokyo                Bangkok\n131904          Los Angeles                  Tokyo\n131905                Tokyo              Singapore\n\n[131906 rows x 2 columns]",
      "text/html": "<div>\n<style scoped>\n    .dataframe tbody tr th:only-of-type {\n        vertical-align: middle;\n    }\n\n    .dataframe tbody tr th {\n        vertical-align: top;\n    }\n\n    .dataframe thead th {\n        text-align: right;\n    }\n</style>\n<table border=\"1\" class=\"dataframe\">\n  <thead>\n    <tr style=\"text-align: right;\">\n      <th></th>\n      <th>standardized_arrival</th>\n      <th>standardized_departure</th>\n    </tr>\n  </thead>\n  <tbody>\n    <tr>\n      <th>0</th>\n      <td>Moheli</td>\n      <td>Moroni</td>\n    </tr>\n    <tr>\n      <th>1</th>\n      <td>Anjouan</td>\n      <td>Moroni</td>\n    </tr>\n    <tr>\n      <th>2</th>\n      <td>Dzaoudzi</td>\n      <td>Anjouan</td>\n    </tr>\n    <tr>\n      <th>3</th>\n      <td>Pristina</td>\n      <td>Frankfurt</td>\n    </tr>\n    <tr>\n      <th>4</th>\n      <td>Amsterdam</td>\n      <td>Sofia</td>\n    </tr>\n    <tr>\n      <th>...</th>\n      <td>...</td>\n      <td>...</td>\n    </tr>\n    <tr>\n      <th>131901</th>\n      <td>Tokyo</td>\n      <td>Bangkok</td>\n    </tr>\n    <tr>\n      <th>131902</th>\n      <td>Tokyo</td>\n      <td>Singapore</td>\n    </tr>\n    <tr>\n      <th>131903</th>\n      <td>Tokyo</td>\n      <td>Bangkok</td>\n    </tr>\n    <tr>\n      <th>131904</th>\n      <td>Los Angeles</td>\n      <td>Tokyo</td>\n    </tr>\n    <tr>\n      <th>131905</th>\n      <td>Tokyo</td>\n      <td>Singapore</td>\n    </tr>\n  </tbody>\n</table>\n<p>131906 rows × 2 columns</p>\n</div>"
     },
     "execution_count": 27,
     "metadata": {},
     "output_type": "execute_result"
    }
   ],
   "source": [
    "from fuzzywuzzy import process,fuzz\n",
    "def stardarize_fuwu(name,standard_names):\n",
    "    if name is None:\n",
    "        return None\n",
    "    match=process.extractOne(name,standard_names,scorer=fuzz.token_sort_ratio)\n",
    "    if match and match[1]>80:\n",
    "        return match[0]\n",
    "    return name\n",
    "df['standardized_departure']=df['departure'].apply(lambda x: stardarize_fuwu(x, filtered_names))\n",
    "df['standardized_arrival']=df['arrival'].apply(lambda x: stardarize_fuwu(x, filtered_names))\n",
    "df[['standardized_arrival','standardized_departure']]"
   ],
   "metadata": {
    "collapsed": false,
    "ExecuteTime": {
     "end_time": "2024-05-01T17:05:35.594465Z",
     "start_time": "2024-05-01T16:11:43.799803Z"
    }
   },
   "id": "59ab32e1f82dfc3a",
   "execution_count": 27
  },
  {
   "cell_type": "code",
   "outputs": [
    {
     "data": {
      "text/plain": "         airline rating     nationality                 date  \\\n0    ab-aviation      9     Netherlands   11th November 2019   \n1    ab-aviation      1  United Kingdom       25th June 2019   \n2    ab-aviation      1  United Kingdom       25th June 2019   \n3  adria-airways      1          Serbia  28th September 2019   \n4  adria-airways      1     Netherlands  24th September 2019   \n\n  Type Of Traveller      Seat Type                             Route  \\\n0      Solo Leisure  Economy Class                  Moroni to Moheli   \n1      Solo Leisure  Economy Class                 Moroni to Anjouan   \n2      Solo Leisure  Economy Class               Anjouan to Dzaoudzi   \n3      Solo Leisure  Economy Class             Frankfurt to Pristina   \n4    Couple Leisure  Economy Class  Sofia to Amsterdam via Ljubljana   \n\n       Date Flown  Seat Comfort  Cabin Staff Service  ...  \\\n0   November 2019           4.0                  5.0  ...   \n1       June 2019           2.0                  2.0  ...   \n2       June 2019           2.0                  1.0  ...   \n3  September 2019           1.0                  1.0  ...   \n4  September 2019           1.0                  1.0  ...   \n\n   Inflight Entertainment  Wifi & Connectivity  Recommended trip_verified  \\\n0                     NaN                  NaN          yes             1   \n1                     NaN                  NaN           no             1   \n2                     NaN                  NaN           no             1   \n3                     NaN                  NaN           no             0   \n4                     1.0                  1.0           no             1   \n\n                                              review  flight_type  departure  \\\n0  pretty decent airline  Moroni to Moheli. Turne...       Direct     Moroni   \n1  Not a good airline Moroni to Anjouan. It is a ...       Direct     Moroni   \n2  flight was fortunately short  Anjouan to Dzaou...       Direct    Anjouan   \n3  I will never fly again with Adria  Please do a...       Direct  Frankfurt   \n4  it ruined our last days of holidays Do not boo...      Transit      Sofia   \n\n     arrival standardized_departure standardized_arrival  \n0     Moheli                 Moroni               Moheli  \n1    Anjouan                 Moroni              Anjouan  \n2   Dzaoudzi                Anjouan             Dzaoudzi  \n3   Pristina              Frankfurt             Pristina  \n4  Amsterdam                  Sofia            Amsterdam  \n\n[5 rows x 24 columns]",
      "text/html": "<div>\n<style scoped>\n    .dataframe tbody tr th:only-of-type {\n        vertical-align: middle;\n    }\n\n    .dataframe tbody tr th {\n        vertical-align: top;\n    }\n\n    .dataframe thead th {\n        text-align: right;\n    }\n</style>\n<table border=\"1\" class=\"dataframe\">\n  <thead>\n    <tr style=\"text-align: right;\">\n      <th></th>\n      <th>airline</th>\n      <th>rating</th>\n      <th>nationality</th>\n      <th>date</th>\n      <th>Type Of Traveller</th>\n      <th>Seat Type</th>\n      <th>Route</th>\n      <th>Date Flown</th>\n      <th>Seat Comfort</th>\n      <th>Cabin Staff Service</th>\n      <th>...</th>\n      <th>Inflight Entertainment</th>\n      <th>Wifi &amp; Connectivity</th>\n      <th>Recommended</th>\n      <th>trip_verified</th>\n      <th>review</th>\n      <th>flight_type</th>\n      <th>departure</th>\n      <th>arrival</th>\n      <th>standardized_departure</th>\n      <th>standardized_arrival</th>\n    </tr>\n  </thead>\n  <tbody>\n    <tr>\n      <th>0</th>\n      <td>ab-aviation</td>\n      <td>9</td>\n      <td>Netherlands</td>\n      <td>11th November 2019</td>\n      <td>Solo Leisure</td>\n      <td>Economy Class</td>\n      <td>Moroni to Moheli</td>\n      <td>November 2019</td>\n      <td>4.0</td>\n      <td>5.0</td>\n      <td>...</td>\n      <td>NaN</td>\n      <td>NaN</td>\n      <td>yes</td>\n      <td>1</td>\n      <td>pretty decent airline  Moroni to Moheli. Turne...</td>\n      <td>Direct</td>\n      <td>Moroni</td>\n      <td>Moheli</td>\n      <td>Moroni</td>\n      <td>Moheli</td>\n    </tr>\n    <tr>\n      <th>1</th>\n      <td>ab-aviation</td>\n      <td>1</td>\n      <td>United Kingdom</td>\n      <td>25th June 2019</td>\n      <td>Solo Leisure</td>\n      <td>Economy Class</td>\n      <td>Moroni to Anjouan</td>\n      <td>June 2019</td>\n      <td>2.0</td>\n      <td>2.0</td>\n      <td>...</td>\n      <td>NaN</td>\n      <td>NaN</td>\n      <td>no</td>\n      <td>1</td>\n      <td>Not a good airline Moroni to Anjouan. It is a ...</td>\n      <td>Direct</td>\n      <td>Moroni</td>\n      <td>Anjouan</td>\n      <td>Moroni</td>\n      <td>Anjouan</td>\n    </tr>\n    <tr>\n      <th>2</th>\n      <td>ab-aviation</td>\n      <td>1</td>\n      <td>United Kingdom</td>\n      <td>25th June 2019</td>\n      <td>Solo Leisure</td>\n      <td>Economy Class</td>\n      <td>Anjouan to Dzaoudzi</td>\n      <td>June 2019</td>\n      <td>2.0</td>\n      <td>1.0</td>\n      <td>...</td>\n      <td>NaN</td>\n      <td>NaN</td>\n      <td>no</td>\n      <td>1</td>\n      <td>flight was fortunately short  Anjouan to Dzaou...</td>\n      <td>Direct</td>\n      <td>Anjouan</td>\n      <td>Dzaoudzi</td>\n      <td>Anjouan</td>\n      <td>Dzaoudzi</td>\n    </tr>\n    <tr>\n      <th>3</th>\n      <td>adria-airways</td>\n      <td>1</td>\n      <td>Serbia</td>\n      <td>28th September 2019</td>\n      <td>Solo Leisure</td>\n      <td>Economy Class</td>\n      <td>Frankfurt to Pristina</td>\n      <td>September 2019</td>\n      <td>1.0</td>\n      <td>1.0</td>\n      <td>...</td>\n      <td>NaN</td>\n      <td>NaN</td>\n      <td>no</td>\n      <td>0</td>\n      <td>I will never fly again with Adria  Please do a...</td>\n      <td>Direct</td>\n      <td>Frankfurt</td>\n      <td>Pristina</td>\n      <td>Frankfurt</td>\n      <td>Pristina</td>\n    </tr>\n    <tr>\n      <th>4</th>\n      <td>adria-airways</td>\n      <td>1</td>\n      <td>Netherlands</td>\n      <td>24th September 2019</td>\n      <td>Couple Leisure</td>\n      <td>Economy Class</td>\n      <td>Sofia to Amsterdam via Ljubljana</td>\n      <td>September 2019</td>\n      <td>1.0</td>\n      <td>1.0</td>\n      <td>...</td>\n      <td>1.0</td>\n      <td>1.0</td>\n      <td>no</td>\n      <td>1</td>\n      <td>it ruined our last days of holidays Do not boo...</td>\n      <td>Transit</td>\n      <td>Sofia</td>\n      <td>Amsterdam</td>\n      <td>Sofia</td>\n      <td>Amsterdam</td>\n    </tr>\n  </tbody>\n</table>\n<p>5 rows × 24 columns</p>\n</div>"
     },
     "execution_count": 28,
     "metadata": {},
     "output_type": "execute_result"
    }
   ],
   "source": [
    "df.head()"
   ],
   "metadata": {
    "collapsed": false,
    "ExecuteTime": {
     "end_time": "2024-05-01T17:07:28.929494Z",
     "start_time": "2024-05-01T17:07:28.914407Z"
    }
   },
   "id": "6d12efd5cca26f73",
   "execution_count": 28
  },
  {
   "cell_type": "code",
   "outputs": [
    {
     "data": {
      "text/plain": "Date Flown\nAugust 2015      1470\nAugust 2019      1379\nJuly 2018        1377\nApril 2019       1348\nJuly 2015        1325\n                 ... \nApril 2012          1\nMay 2014            1\nMarch 2013          1\nApril 2013          1\nNovember 2024       1\nName: count, Length: 123, dtype: int64"
     },
     "execution_count": 30,
     "metadata": {},
     "output_type": "execute_result"
    }
   ],
   "source": [
    "df['Date Flown'].value_counts()"
   ],
   "metadata": {
    "collapsed": false,
    "ExecuteTime": {
     "end_time": "2024-05-01T17:08:18.920021Z",
     "start_time": "2024-05-01T17:08:18.915855Z"
    }
   },
   "id": "c77b485436647428",
   "execution_count": 30
  },
  {
   "cell_type": "code",
   "outputs": [
    {
     "data": {
      "text/plain": "36148"
     },
     "execution_count": 31,
     "metadata": {},
     "output_type": "execute_result"
    }
   ],
   "source": [
    "df['Date Flown'].isna().sum()"
   ],
   "metadata": {
    "collapsed": false,
    "ExecuteTime": {
     "end_time": "2024-05-01T17:08:38.177837Z",
     "start_time": "2024-05-01T17:08:38.170437Z"
    }
   },
   "id": "7c1adbe79ac146a6",
   "execution_count": 31
  },
  {
   "cell_type": "code",
   "outputs": [],
   "source": [
    "def extract_date(date):\n",
    "    if not isinstance(date,str):\n",
    "        return None, None  # Return tuples directly for None input\n",
    "    \n",
    "    # Define regex patterns\n",
    "    month_pattern = r'(\\w+)\\s\\d{4}'\n",
    "    year_pattern = r'\\w+\\s(\\d{4})'\n",
    "    \n",
    "    # Find all occurrences of the patterns\n",
    "    month_match = re.findall(month_pattern, date)\n",
    "    year_match = re.findall(year_pattern, date)\n",
    "    \n",
    "    # Extract the first match or return None if no match is found\n",
    "    month = month_match[0] if month_match else None\n",
    "    year = year_match[0] if year_match else None\n",
    "    \n",
    "    return month, year"
   ],
   "metadata": {
    "collapsed": false,
    "ExecuteTime": {
     "end_time": "2024-05-01T17:19:15.356249Z",
     "start_time": "2024-05-01T17:19:15.342814Z"
    }
   },
   "id": "2612e89009162e3d",
   "execution_count": 35
  },
  {
   "cell_type": "code",
   "outputs": [
    {
     "data": {
      "text/plain": "       Month  Year\n0   November  2019\n1       June  2019\n2       June  2019\n3  September  2019\n4  September  2019",
      "text/html": "<div>\n<style scoped>\n    .dataframe tbody tr th:only-of-type {\n        vertical-align: middle;\n    }\n\n    .dataframe tbody tr th {\n        vertical-align: top;\n    }\n\n    .dataframe thead th {\n        text-align: right;\n    }\n</style>\n<table border=\"1\" class=\"dataframe\">\n  <thead>\n    <tr style=\"text-align: right;\">\n      <th></th>\n      <th>Month</th>\n      <th>Year</th>\n    </tr>\n  </thead>\n  <tbody>\n    <tr>\n      <th>0</th>\n      <td>November</td>\n      <td>2019</td>\n    </tr>\n    <tr>\n      <th>1</th>\n      <td>June</td>\n      <td>2019</td>\n    </tr>\n    <tr>\n      <th>2</th>\n      <td>June</td>\n      <td>2019</td>\n    </tr>\n    <tr>\n      <th>3</th>\n      <td>September</td>\n      <td>2019</td>\n    </tr>\n    <tr>\n      <th>4</th>\n      <td>September</td>\n      <td>2019</td>\n    </tr>\n  </tbody>\n</table>\n</div>"
     },
     "execution_count": 37,
     "metadata": {},
     "output_type": "execute_result"
    }
   ],
   "source": [
    "df[['Month','Year']]=df['Date Flown'].apply(lambda x: extract_date(x)).apply(pd.Series)\n",
    "\n",
    "df[['Month','Year']].head()"
   ],
   "metadata": {
    "collapsed": false,
    "ExecuteTime": {
     "end_time": "2024-05-01T17:19:35.390759Z",
     "start_time": "2024-05-01T17:19:28.540336Z"
    }
   },
   "id": "391948679e651e1a",
   "execution_count": 37
  },
  {
   "cell_type": "code",
   "outputs": [
    {
     "data": {
      "text/plain": "         airline rating     nationality                 date  \\\n0    ab-aviation      9     Netherlands   11th November 2019   \n1    ab-aviation      1  United Kingdom       25th June 2019   \n2    ab-aviation      1  United Kingdom       25th June 2019   \n3  adria-airways      1          Serbia  28th September 2019   \n4  adria-airways      1     Netherlands  24th September 2019   \n\n  Type Of Traveller      Seat Type                             Route  \\\n0      Solo Leisure  Economy Class                  Moroni to Moheli   \n1      Solo Leisure  Economy Class                 Moroni to Anjouan   \n2      Solo Leisure  Economy Class               Anjouan to Dzaoudzi   \n3      Solo Leisure  Economy Class             Frankfurt to Pristina   \n4    Couple Leisure  Economy Class  Sofia to Amsterdam via Ljubljana   \n\n       Date Flown  Seat Comfort  Cabin Staff Service  ...  Recommended  \\\n0   November 2019           4.0                  5.0  ...          yes   \n1       June 2019           2.0                  2.0  ...           no   \n2       June 2019           2.0                  1.0  ...           no   \n3  September 2019           1.0                  1.0  ...           no   \n4  September 2019           1.0                  1.0  ...           no   \n\n   trip_verified                                             review  \\\n0              1  pretty decent airline  Moroni to Moheli. Turne...   \n1              1  Not a good airline Moroni to Anjouan. It is a ...   \n2              1  flight was fortunately short  Anjouan to Dzaou...   \n3              0  I will never fly again with Adria  Please do a...   \n4              1  it ruined our last days of holidays Do not boo...   \n\n  flight_type  departure    arrival standardized_departure  \\\n0      Direct     Moroni     Moheli                 Moroni   \n1      Direct     Moroni    Anjouan                 Moroni   \n2      Direct    Anjouan   Dzaoudzi                Anjouan   \n3      Direct  Frankfurt   Pristina              Frankfurt   \n4     Transit      Sofia  Amsterdam                  Sofia   \n\n   standardized_arrival      Month  Year  \n0                Moheli   November  2019  \n1               Anjouan       June  2019  \n2              Dzaoudzi       June  2019  \n3              Pristina  September  2019  \n4             Amsterdam  September  2019  \n\n[5 rows x 26 columns]",
      "text/html": "<div>\n<style scoped>\n    .dataframe tbody tr th:only-of-type {\n        vertical-align: middle;\n    }\n\n    .dataframe tbody tr th {\n        vertical-align: top;\n    }\n\n    .dataframe thead th {\n        text-align: right;\n    }\n</style>\n<table border=\"1\" class=\"dataframe\">\n  <thead>\n    <tr style=\"text-align: right;\">\n      <th></th>\n      <th>airline</th>\n      <th>rating</th>\n      <th>nationality</th>\n      <th>date</th>\n      <th>Type Of Traveller</th>\n      <th>Seat Type</th>\n      <th>Route</th>\n      <th>Date Flown</th>\n      <th>Seat Comfort</th>\n      <th>Cabin Staff Service</th>\n      <th>...</th>\n      <th>Recommended</th>\n      <th>trip_verified</th>\n      <th>review</th>\n      <th>flight_type</th>\n      <th>departure</th>\n      <th>arrival</th>\n      <th>standardized_departure</th>\n      <th>standardized_arrival</th>\n      <th>Month</th>\n      <th>Year</th>\n    </tr>\n  </thead>\n  <tbody>\n    <tr>\n      <th>0</th>\n      <td>ab-aviation</td>\n      <td>9</td>\n      <td>Netherlands</td>\n      <td>11th November 2019</td>\n      <td>Solo Leisure</td>\n      <td>Economy Class</td>\n      <td>Moroni to Moheli</td>\n      <td>November 2019</td>\n      <td>4.0</td>\n      <td>5.0</td>\n      <td>...</td>\n      <td>yes</td>\n      <td>1</td>\n      <td>pretty decent airline  Moroni to Moheli. Turne...</td>\n      <td>Direct</td>\n      <td>Moroni</td>\n      <td>Moheli</td>\n      <td>Moroni</td>\n      <td>Moheli</td>\n      <td>November</td>\n      <td>2019</td>\n    </tr>\n    <tr>\n      <th>1</th>\n      <td>ab-aviation</td>\n      <td>1</td>\n      <td>United Kingdom</td>\n      <td>25th June 2019</td>\n      <td>Solo Leisure</td>\n      <td>Economy Class</td>\n      <td>Moroni to Anjouan</td>\n      <td>June 2019</td>\n      <td>2.0</td>\n      <td>2.0</td>\n      <td>...</td>\n      <td>no</td>\n      <td>1</td>\n      <td>Not a good airline Moroni to Anjouan. It is a ...</td>\n      <td>Direct</td>\n      <td>Moroni</td>\n      <td>Anjouan</td>\n      <td>Moroni</td>\n      <td>Anjouan</td>\n      <td>June</td>\n      <td>2019</td>\n    </tr>\n    <tr>\n      <th>2</th>\n      <td>ab-aviation</td>\n      <td>1</td>\n      <td>United Kingdom</td>\n      <td>25th June 2019</td>\n      <td>Solo Leisure</td>\n      <td>Economy Class</td>\n      <td>Anjouan to Dzaoudzi</td>\n      <td>June 2019</td>\n      <td>2.0</td>\n      <td>1.0</td>\n      <td>...</td>\n      <td>no</td>\n      <td>1</td>\n      <td>flight was fortunately short  Anjouan to Dzaou...</td>\n      <td>Direct</td>\n      <td>Anjouan</td>\n      <td>Dzaoudzi</td>\n      <td>Anjouan</td>\n      <td>Dzaoudzi</td>\n      <td>June</td>\n      <td>2019</td>\n    </tr>\n    <tr>\n      <th>3</th>\n      <td>adria-airways</td>\n      <td>1</td>\n      <td>Serbia</td>\n      <td>28th September 2019</td>\n      <td>Solo Leisure</td>\n      <td>Economy Class</td>\n      <td>Frankfurt to Pristina</td>\n      <td>September 2019</td>\n      <td>1.0</td>\n      <td>1.0</td>\n      <td>...</td>\n      <td>no</td>\n      <td>0</td>\n      <td>I will never fly again with Adria  Please do a...</td>\n      <td>Direct</td>\n      <td>Frankfurt</td>\n      <td>Pristina</td>\n      <td>Frankfurt</td>\n      <td>Pristina</td>\n      <td>September</td>\n      <td>2019</td>\n    </tr>\n    <tr>\n      <th>4</th>\n      <td>adria-airways</td>\n      <td>1</td>\n      <td>Netherlands</td>\n      <td>24th September 2019</td>\n      <td>Couple Leisure</td>\n      <td>Economy Class</td>\n      <td>Sofia to Amsterdam via Ljubljana</td>\n      <td>September 2019</td>\n      <td>1.0</td>\n      <td>1.0</td>\n      <td>...</td>\n      <td>no</td>\n      <td>1</td>\n      <td>it ruined our last days of holidays Do not boo...</td>\n      <td>Transit</td>\n      <td>Sofia</td>\n      <td>Amsterdam</td>\n      <td>Sofia</td>\n      <td>Amsterdam</td>\n      <td>September</td>\n      <td>2019</td>\n    </tr>\n  </tbody>\n</table>\n<p>5 rows × 26 columns</p>\n</div>"
     },
     "execution_count": 38,
     "metadata": {},
     "output_type": "execute_result"
    }
   ],
   "source": [
    "df.head()"
   ],
   "metadata": {
    "collapsed": false,
    "ExecuteTime": {
     "end_time": "2024-05-01T17:19:44.139732Z",
     "start_time": "2024-05-01T17:19:44.069843Z"
    }
   },
   "id": "63e3608863e083da",
   "execution_count": 38
  },
  {
   "cell_type": "code",
   "outputs": [],
   "source": [
    "cleaned_df=df.drop(columns=['Date Flown','date','Route','Aircraft','departure','arrival'])\n",
    "cleaned_df.to_csv('cleaned_data.csv')"
   ],
   "metadata": {
    "collapsed": false,
    "ExecuteTime": {
     "end_time": "2024-05-01T17:21:36.704787Z",
     "start_time": "2024-05-01T17:21:34.641560Z"
    }
   },
   "id": "2d137e1b5573aba8",
   "execution_count": 40
  },
  {
   "cell_type": "code",
   "outputs": [],
   "source": [],
   "metadata": {
    "collapsed": false
   },
   "id": "97185ae21394504f"
  }
 ],
 "metadata": {
  "kernelspec": {
   "display_name": "Python 3",
   "language": "python",
   "name": "python3"
  },
  "language_info": {
   "codemirror_mode": {
    "name": "ipython",
    "version": 2
   },
   "file_extension": ".py",
   "mimetype": "text/x-python",
   "name": "python",
   "nbconvert_exporter": "python",
   "pygments_lexer": "ipython2",
   "version": "2.7.6"
  }
 },
 "nbformat": 4,
 "nbformat_minor": 5
}
